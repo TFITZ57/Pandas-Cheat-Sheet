{
 "cells": [
  {
   "cell_type": "code",
   "execution_count": null,
   "id": "48daf722-f19c-44cb-8b96-32f41efffa7c",
   "metadata": {},
   "outputs": [],
   "source": [
    "Pandas Cheat Sheet \n",
    "    [reading csv, cleaning data, indexing, calculations, visualizations]"
   ]
  },
  {
   "cell_type": "code",
   "execution_count": null,
   "id": "169349f4-293e-433f-8cae-37e809c2a95a",
   "metadata": {},
   "outputs": [],
   "source": [
    "Reading CSV"
   ]
  },
  {
   "cell_type": "code",
   "execution_count": null,
   "id": "2846bb69-5b9f-459e-aec1-cb03c841f959",
   "metadata": {},
   "outputs": [],
   "source": [
    "pd.read_csv - reads csv file \n",
    "pd.read_csv(csvpath, header=none) - reads csv file without the header"
   ]
  },
  {
   "cell_type": "code",
   "execution_count": null,
   "id": "5292e527-6404-4c23-81e6-19362cb99aba",
   "metadata": {},
   "outputs": [],
   "source": [
    "infer_datetime_format=True - Pandas will infer the format of the datetime strings in column (speeds up parsing process)"
   ]
  },
  {
   "cell_type": "code",
   "execution_count": null,
   "id": "02f583ac-b36b-4aad-a8f8-f2eda8dddaa4",
   "metadata": {},
   "outputs": [],
   "source": [
    "inplace=True - modifies the DataFrame in place, without returning a new DataFrame. Original DataFrame is changed directly."
   ]
  },
  {
   "cell_type": "code",
   "execution_count": null,
   "id": "2d18a95b-5450-4f72-b00e-957de5d77acf",
   "metadata": {},
   "outputs": [],
   "source": [
    "parse_dates=True - instructs Pandas to automatically parse columns as datetime objects"
   ]
  },
  {
   "cell_type": "code",
   "execution_count": null,
   "id": "2329aa48-9b39-42b4-ac99-ebef1ea3dfc1",
   "metadata": {},
   "outputs": [],
   "source": [
    "df.head() - shows first 5 rows of dataframe, or however many specific(10) "
   ]
  },
  {
   "cell_type": "code",
   "execution_count": null,
   "id": "f75e48da-8612-4eae-8bac-3bc1c5f15160",
   "metadata": {},
   "outputs": [],
   "source": [
    "df.tail() - shows last 5 rows of dataframe "
   ]
  },
  {
   "cell_type": "code",
   "execution_count": null,
   "id": "781c74a6-42d1-4325-bb44-c072e9d5f60f",
   "metadata": {},
   "outputs": [],
   "source": [
    "df.rename() - ranames value"
   ]
  },
  {
   "cell_type": "code",
   "execution_count": null,
   "id": "b95d1359-15ca-43b9-ac76-e60284f101ce",
   "metadata": {},
   "outputs": [],
   "source": [
    "df.first() - take the first value "
   ]
  },
  {
   "cell_type": "code",
   "execution_count": null,
   "id": "1075d531-515c-48e5-a28c-7cd5ec8adac1",
   "metadata": {},
   "outputs": [],
   "source": [
    "df.last() - take the last value "
   ]
  },
  {
   "cell_type": "code",
   "execution_count": null,
   "id": "2f9ac6b1-fbad-4bfd-9c0d-f69698070c55",
   "metadata": {},
   "outputs": [],
   "source": [
    "df.mean() take the average of rows"
   ]
  },
  {
   "cell_type": "code",
   "execution_count": null,
   "id": "5ec60c3c-f6da-4a5b-a5db-7d625155ef98",
   "metadata": {},
   "outputs": [],
   "source": [
    "df.count() count number of rows"
   ]
  },
  {
   "cell_type": "code",
   "execution_count": null,
   "id": "dbadd222-8cf3-4e6a-8488-25c6329d42a5",
   "metadata": {},
   "outputs": [],
   "source": [
    "df.sum() - add up all values "
   ]
  },
  {
   "cell_type": "code",
   "execution_count": null,
   "id": "1c4b4a2f-d342-41ee-908d-77c5e16987ca",
   "metadata": {},
   "outputs": [],
   "source": [
    "df.shape - number of columns and rows in dataframe"
   ]
  },
  {
   "cell_type": "code",
   "execution_count": null,
   "id": "6bb51879-b1d9-4ff4-8d28-71fc58809183",
   "metadata": {},
   "outputs": [],
   "source": [
    "df.groupby('value') - groups data by specific 'value' "
   ]
  },
  {
   "cell_type": "code",
   "execution_count": null,
   "id": "0a00cc0b-87d6-4448-90a5-455b25969574",
   "metadata": {},
   "outputs": [],
   "source": [
    "multi_group = df.groupby(['name','data_priceUsd'])['data_priceUsd'].count()"
   ]
  },
  {
   "cell_type": "code",
   "execution_count": null,
   "id": "8fc68e46-da92-42d7-9671-23ed01523f15",
   "metadata": {},
   "outputs": [],
   "source": [
    "df = df.groupby([df.index.year, df.index.month, df.index.day]).first() - group by (year, month, day) take first value of each group "
   ]
  },
  {
   "cell_type": "code",
   "execution_count": null,
   "id": "f4c75762-add6-4f29-b00e-1aecb3d29805",
   "metadata": {},
   "outputs": [],
   "source": [
    "df.sort_values('price', ascending=False) - sorts datframe according to price in descending order"
   ]
  },
  {
   "cell_type": "code",
   "execution_count": null,
   "id": "d5785d0c-d422-4d94-8b4d-138bc1661cb4",
   "metadata": {},
   "outputs": [],
   "source": [
    "df. = df.set_index(\"value\") - sets 'value' as the index"
   ]
  },
  {
   "cell_type": "code",
   "execution_count": null,
   "id": "ef5c25fc-a095-4001-b994-fded6d9ce5ee",
   "metadata": {},
   "outputs": [],
   "source": [
    "df.sort_index(ascending=False) - sorts dataframe by index in descending order"
   ]
  },
  {
   "cell_type": "code",
   "execution_count": null,
   "id": "1fa66125-7603-44f4-a72c-daa1559a1ce9",
   "metadata": {},
   "outputs": [],
   "source": [
    "col_names = [[]] - defines column names\n",
    "df.columns = col_names - adds column names "
   ]
  },
  {
   "cell_type": "code",
   "execution_count": null,
   "id": "e2bd976e-fb8f-4d25-a46d-2541c047e73e",
   "metadata": {},
   "outputs": [],
   "source": [
    "df.drop(columns=['Date'], inplace=True - drop extra date column"
   ]
  },
  {
   "cell_type": "code",
   "execution_count": null,
   "id": "00836dec-a28f-4866-924e-08bae34cd5e5",
   "metadata": {},
   "outputs": [],
   "source": [
    "df.describe(include='all') - describe summary statistics for dataframe - describes summary of statistics "
   ]
  },
  {
   "cell_type": "code",
   "execution_count": null,
   "id": "1b7940c0-f75f-4f5e-bbd2-8dfde56717a5",
   "metadata": {},
   "outputs": [],
   "source": [
    "df['string_Split'].str.spit(' ', expand=True) - strings into their separate columns"
   ]
  },
  {
   "cell_type": "markdown",
   "id": "18429dd7-27bb-497e-8b31-a54644f8f4de",
   "metadata": {},
   "source": [
    "Data Cleaning "
   ]
  },
  {
   "cell_type": "code",
   "execution_count": null,
   "id": "21fcb712-b3c3-49b9-97e7-e1b05afb3eeb",
   "metadata": {},
   "outputs": [],
   "source": [
    "pd.csv_reader(csv_path, index_col='order_no') - indexes dataframe by 'data' colomn"
   ]
  },
  {
   "cell_type": "code",
   "execution_count": null,
   "id": "b2b5a0e8-5490-4e08-8d80-f3d6fc355970",
   "metadata": {},
   "outputs": [],
   "source": [
    "df.sample() - takes a sample"
   ]
  },
  {
   "cell_type": "code",
   "execution_count": null,
   "id": "3293cc38-c195-4c17-906f-feaaa86d6aae",
   "metadata": {},
   "outputs": [],
   "source": [
    "df.dtypes()- identify datatypes"
   ]
  },
  {
   "cell_type": "code",
   "execution_count": null,
   "id": "1340630d-a114-4305-a560-badfe02c7ff2",
   "metadata": {},
   "outputs": [],
   "source": [
    "df.count() - identify number of rows"
   ]
  },
  {
   "cell_type": "code",
   "execution_count": null,
   "id": "3ef2c689-bf2c-433f-bc93-414c9dccaebc",
   "metadata": {},
   "outputs": [],
   "source": [
    "df['data'].value_counts() - counts frequency within 'data' columns"
   ]
  },
  {
   "cell_type": "code",
   "execution_count": null,
   "id": "54e44489-a54b-411f-86a9-05537cccaecd",
   "metadata": {},
   "outputs": [],
   "source": [
    "df.isnull() - checks for null values "
   ]
  },
  {
   "cell_type": "code",
   "execution_count": null,
   "id": "1192c78b-2f23-45ce-9d79-5d4e03300de1",
   "metadata": {},
   "outputs": [],
   "source": [
    "df.isnull().mean() * 100 - calculates percentage of nulls"
   ]
  },
  {
   "cell_type": "code",
   "execution_count": null,
   "id": "884267b7-5725-4460-9052-933c06e06923",
   "metadata": {},
   "outputs": [],
   "source": [
    "df.isnull().sum() - calculates number of nulls"
   ]
  },
  {
   "cell_type": "code",
   "execution_count": null,
   "id": "3b94b7dd-73a6-4f9c-9fc9-93bdbf97c155",
   "metadata": {},
   "outputs": [],
   "source": [
    "df['data'].fillna['csv_data'] - fills missing values with 'value' "
   ]
  },
  {
   "cell_type": "code",
   "execution_count": null,
   "id": "619b7942-c310-402c-a1f5-7d4a3966e764",
   "metadata": {},
   "outputs": [],
   "source": [
    "df.dropna() - drops missing values from dataframe "
   ]
  },
  {
   "cell_type": "code",
   "execution_count": null,
   "id": "2a451fbf-b41b-4785-beb0-bd78e294bb0a",
   "metadata": {},
   "outputs": [],
   "source": [
    "df.duplicated() - checks for duplicates in dataframe "
   ]
  },
  {
   "cell_type": "code",
   "execution_count": null,
   "id": "6d14b54c-8e99-40ba-90bb-eb890048c7ff",
   "metadata": {},
   "outputs": [],
   "source": [
    "df['data'].duplicated() - check duplicates for specific field"
   ]
  },
  {
   "cell_type": "code",
   "execution_count": null,
   "id": "1ba335e9-a5ab-4dca-8d0d-01d98c7da756",
   "metadata": {},
   "outputs": [],
   "source": [
    "df['data'].str.replace('$', ' ') - replaceing currency symbols"
   ]
  },
  {
   "cell_type": "code",
   "execution_count": null,
   "id": "e1b3c2cb-e828-47e3-87c1-f8aa0e0d8da3",
   "metadata": {},
   "outputs": [],
   "source": [
    "df.drop_duplicated().copy() - drop duplicates "
   ]
  },
  {
   "cell_type": "code",
   "execution_count": null,
   "id": "7c096786-6bfd-4175-a5b4-8ce878bf798e",
   "metadata": {},
   "outputs": [],
   "source": [
    "df['data'].astype('float') - convert data value from object to float "
   ]
  },
  {
   "cell_type": "code",
   "execution_count": null,
   "id": "ea278e61-b84c-41bc-9085-0866439f364a",
   "metadata": {},
   "outputs": [],
   "source": [
    "filters rows\n",
    "term_df = filtered_df.loc[filtered_df['term'] == '36 months'].copy()\n",
    "- creates a new DataFrame term_df containing only the rows from filtered_df where the value in the term column is '36 months'."
   ]
  },
  {
   "cell_type": "code",
   "execution_count": null,
   "id": "3abe34f9-7ffb-4a5e-8330-5545b0e7dfe0",
   "metadata": {},
   "outputs": [],
   "source": [
    "Modify row values \n",
    "term_df.loc[term_df['term'] == '36 months', 'term'] = '3 Years'\n",
    "- Change row values within the 'term' column from '36 months' to '3 Years'"
   ]
  },
  {
   "cell_type": "code",
   "execution_count": null,
   "id": "5a90015d-5be7-4abb-a067-49c89e0c291b",
   "metadata": {},
   "outputs": [],
   "source": [
    "Change row values\n",
    "term_df.loc[term_df['emp_title'].isnull(), 'emp_title'] = 'Unknown'\n",
    "- Change row values within the 'emp_title' column from NaN to 'Unknown'"
   ]
  },
  {
   "cell_type": "markdown",
   "id": "9e9168ae-8c88-4e5f-8421-80fe0cd40673",
   "metadata": {},
   "source": [
    "Indexing Data"
   ]
  },
  {
   "cell_type": "code",
   "execution_count": null,
   "id": "f2d4a7b6-f014-4f19-94f5-a3efde2f8a0e",
   "metadata": {},
   "outputs": [],
   "source": [
    "df.iloc(0) - select the first row of dataframe"
   ]
  },
  {
   "cell_type": "code",
   "execution_count": null,
   "id": "59e39a11-d52c-4261-a534-087b8b89a9bf",
   "metadata": {},
   "outputs": [],
   "source": [
    "df.iloc(1) - slelct the second row of dataframe "
   ]
  },
  {
   "cell_type": "code",
   "execution_count": null,
   "id": "757e3801-d7b4-47dc-a4c5-cc82af4e8548",
   "metadata": {},
   "outputs": [],
   "source": [
    "df.iloc(0:10) - select first ten rows of dataframe"
   ]
  },
  {
   "cell_type": "code",
   "execution_count": null,
   "id": "f5076ca1-df40-4062-b83e-629e15daad80",
   "metadata": {},
   "outputs": [],
   "source": [
    "df.iloc(-1) - select last from of dataframe "
   ]
  },
  {
   "cell_type": "code",
   "execution_count": null,
   "id": "6c53ff64-ccee-4518-a318-757cfd689844",
   "metadata": {},
   "outputs": [],
   "source": [
    "df.iloc[:,0].head() - select first collum of dataframe"
   ]
  },
  {
   "cell_type": "code",
   "execution_count": null,
   "id": "52dfcb3e-063a-487f-ad8c-1f43ca705516",
   "metadata": {},
   "outputs": [],
   "source": [
    "df.iloc[:,1].head() - select second column of dataframe with all rows"
   ]
  },
  {
   "cell_type": "code",
   "execution_count": null,
   "id": "810418f5-c973-4219-a870-8f0ddd40bfcc",
   "metadata": {},
   "outputs": [],
   "source": [
    "df.iloc[:,-1].head() - select last column of dataframe with all rows"
   ]
  },
  {
   "cell_type": "code",
   "execution_count": null,
   "id": "d0b2851d-5dc2-468d-a10b-a1b4c8ba4e34",
   "metadata": {},
   "outputs": [],
   "source": [
    "df.iloc[:, 0:2].head() - select first two colums with all rows "
   ]
  },
  {
   "cell_type": "code",
   "execution_count": null,
   "id": "36051355-ae8b-458a-8b92-223bc4cf84f4",
   "metadata": {},
   "outputs": [],
   "source": [
    "df.iloc[0,4,7,21], [0,3,5] - select 1st, 5th, 8th, 22nd row of the 1st, 4th, and 6th columns"
   ]
  },
  {
   "cell_type": "code",
   "execution_count": null,
   "id": "8b322168-a3cb-4cd5-b687-e256d4eae4a7",
   "metadata": {},
   "outputs": [],
   "source": [
    "df.iloc[0:5, 2:5] - select first 5 rows of 3rd,4th,5th column"
   ]
  },
  {
   "cell_type": "code",
   "execution_count": null,
   "id": "7ddff737-bf97-4a31-8507-841500440376",
   "metadata": {},
   "outputs": [],
   "source": [
    "df.iloc[0, df.columns.get_loc('data') = 'value'\n",
    "- Modify the 'data' column value of the first row "
   ]
  },
  {
   "cell_type": "code",
   "execution_count": null,
   "id": "57bd5a35-e106-4235-bf69-de75b88d1554",
   "metadata": {},
   "outputs": [],
   "source": [
    "df.set_index(csv_data[\"data\"], inplace=True - sets 'data' as the index"
   ]
  },
  {
   "cell_type": "code",
   "execution_count": null,
   "id": "ca793c27-994e-406e-8c24-71686d438f7d",
   "metadata": {},
   "outputs": [],
   "source": [
    "df.set_index(pd.to_datetime(df[\"Date\"], infer_datetime_format=True) inplace=True\n",
    "-convert date strings into objects and set the datetime as the index          "
   ]
  },
  {
   "cell_type": "code",
   "execution_count": null,
   "id": "a1b92c07-4174-46e8-89ad-b630c52c10ac",
   "metadata": {},
   "outputs": [],
   "source": [
    "df.sort_index() - sort the index"
   ]
  },
  {
   "cell_type": "code",
   "execution_count": null,
   "id": "e401a11b-33c5-42f1-837d-478a24fcc5c6",
   "metadata": {},
   "outputs": [],
   "source": [
    "df.loc['name'] - select row with index 'name'"
   ]
  },
  {
   "cell_type": "code",
   "execution_count": null,
   "id": "e412d33e-9091-4045-a9ae-d44f58f67fc5",
   "metadata": {},
   "outputs": [],
   "source": [
    "df.loc['name1':'name'].head() - slice the data to ouput range of rows"
   ]
  },
  {
   "cell_type": "code",
   "execution_count": null,
   "id": "111c3a25-65a0-487d-aeec-acc4726c2c49",
   "metadata": {},
   "outputs": [],
   "source": [
    "df.loc[csv_data['column'] == 'M'].head() - filter rows based on a column value conditional"
   ]
  },
  {
   "cell_type": "code",
   "execution_count": null,
   "id": "bd934726-8abc-439b-8e51-5f5b1dce63b7",
   "metadata": {},
   "outputs": [],
   "source": [
    "df.loc['Yun', 'first_name'] = 'Yuna' - Modify 'column' value of the row with index"
   ]
  },
  {
   "cell_type": "code",
   "execution_count": null,
   "id": "5839446d-099a-4c85-96db-2ce98ffc5a38",
   "metadata": {
    "tags": []
   },
   "outputs": [],
   "source": [
    "df.concat([], Axis='row/column, join='inner/outer') \n",
    "- concatenate data into a single datafrome either by rows (0) or column (1). 'inner' keeps only the common indexes while 'outer' keeps all indexes"
   ]
  },
  {
   "cell_type": "markdown",
   "id": "f8055fd8-4877-4c2c-a571-5a26f4f2f795",
   "metadata": {},
   "source": [
    "Data Visualization "
   ]
  },
  {
   "cell_type": "code",
   "execution_count": null,
   "id": "a2be5511-dbd5-4a1f-b10b-f3ab461b5a67",
   "metadata": {},
   "outputs": [],
   "source": [
    "df.pct_change() - calculate percent change "
   ]
  },
  {
   "cell_type": "code",
   "execution_count": null,
   "id": "5b3945bd-435c-488a-8436-bfee2c47f6dd",
   "metadata": {},
   "outputs": [],
   "source": [
    "df.plot()"
   ]
  },
  {
   "cell_type": "code",
   "execution_count": null,
   "id": "c2327f41-f305-4b7c-9873-a655117f5e17",
   "metadata": {},
   "outputs": [],
   "source": [
    "grouped_data = df.groupby('name')['value'].plot(legend=True) - plots grouped data "
   ]
  },
  {
   "cell_type": "code",
   "execution_count": null,
   "id": "7b325d15-103e-409a-b404-bd124c217344",
   "metadata": {},
   "outputs": [],
   "source": [
    "df.plot(kind='bar') - plot bar chart of data"
   ]
  },
  {
   "cell_type": "code",
   "execution_count": null,
   "id": "7903f630-581b-4e91-b280-e34eb1ebf868",
   "metadata": {},
   "outputs": [],
   "source": [
    "df.plot(kind='bar', figsize=(20,10)) - bar chart with incresed figure size\n",
    "- plot data with increased figure size to see x-axis labels"
   ]
  },
  {
   "cell_type": "code",
   "execution_count": null,
   "id": "506f7bd6-392f-4c7b-b918-99fee3591331",
   "metadata": {},
   "outputs": [],
   "source": [
    "daily_returns = (csv_data - csv_data.shift(1)) / csv_data.shift(1)\n",
    "-  calculates the daily returns of a financial time series, typically stock prices, in a pandas DataFrame"
   ]
  },
  {
   "cell_type": "code",
   "execution_count": null,
   "id": "cd4eeef0-ec70-4d82-ab71-5f19acb5787f",
   "metadata": {},
   "outputs": [],
   "source": [
    "df.shift() -  This method shifts the index of the DataFrame by the specified number of periods (1 in this case)\n",
    "- moves all data down by one row, essentially aligning each row with the previous days data."
   ]
  },
  {
   "cell_type": "code",
   "execution_count": null,
   "id": "f2d925ac-5189-4ebf-a41a-5ebfe4055204",
   "metadata": {},
   "outputs": [],
   "source": [
    "cumulative_returns = (1 + daily_returns).cumprod()\n",
    "- is used to calculate the cumulative returns of a financial time series using pandas"
   ]
  },
  {
   "cell_type": "code",
   "execution_count": null,
   "id": "3d02e4de-08f6-4ab6-a91f-24b977f51231",
   "metadata": {},
   "outputs": [],
   "source": [
    "cumulative_returns = (1 + daily_returns).cumprod()\n",
    "df.cumprod()- method stands for cumulative product. It computes the cumulative product of the elements along a given axis"
   ]
  },
  {
   "cell_type": "code",
   "execution_count": null,
   "id": "17187ac9-ce1b-4d48-b6a3-5cc753dc4f75",
   "metadata": {},
   "outputs": [],
   "source": [
    "- Filter down to 20 companies with the largest market caps\n",
    "top_20_market_cap = market_cap.nlargest(20, 'Market Cap')"
   ]
  },
  {
   "cell_type": "code",
   "execution_count": null,
   "id": "10fb3729-0097-4fd6-a7fe-abdf761dbc74",
   "metadata": {},
   "outputs": [],
   "source": [
    "daily_std = daily_data.std() - calculate daily standard deviations "
   ]
  },
  {
   "cell_type": "code",
   "execution_count": null,
   "id": "d4998654-f316-4f64-bb97-793114138db1",
   "metadata": {},
   "outputs": [],
   "source": [
    "daily_std = daily_std.sort_values(ascending=False) - sort by descending order, highest risk-lowest risk "
   ]
  },
  {
   "cell_type": "code",
   "execution_count": null,
   "id": "5e96654c-a3af-415d-b49a-039179c7f33e",
   "metadata": {},
   "outputs": [],
   "source": [
    "np.random.normal() - random number geberator following a noraml (gausian) distribustion\n",
    "('loc'= center of ditribution) ('scale'= spread or 'width') ('size'= shape of the output array)"
   ]
  },
  {
   "cell_type": "code",
   "execution_count": null,
   "id": "d81800f4-3d87-40e0-8ea1-22702a1b05d9",
   "metadata": {},
   "outputs": [],
   "source": [
    "np.sqrt() - calcualte square root"
   ]
  },
  {
   "cell_type": "code",
   "execution_count": null,
   "id": "f0445d08-6e15-4206-8ce1-0aa1862234c4",
   "metadata": {},
   "outputs": [],
   "source": [
    "portfolio_std.plot.hist(stacked=True, bins=100) - plot histogram w/ stackd bars and 100bins "
   ]
  },
  {
   "cell_type": "code",
   "execution_count": null,
   "id": "757f97b2-4773-415f-90a0-d551a9ac3adb",
   "metadata": {},
   "outputs": [],
   "source": [
    "portfolio_std.plot.box() - generates a box plot of data"
   ]
  },
  {
   "cell_type": "code",
   "execution_count": null,
   "id": "48b024c1-5863-4d59-969f-06f1466f3de2",
   "metadata": {},
   "outputs": [],
   "source": [
    "Calculate sharpe ratios\n",
    "sharpe_ratios = ((all_portfolios_returns.mean()-all_portfolios_returns['rf_rate'].mean()) * 252) / (all_portfolios_returns.std() * np.sqrt(252))"
   ]
  },
  {
   "cell_type": "code",
   "execution_count": null,
   "id": "68e8f2c4-b0e9-4f7b-bdc3-1924c44c370e",
   "metadata": {},
   "outputs": [],
   "source": [
    "sharpe_ratios.plot(kind=\"bar\", title='Sharpe Ratios') - plot sharpe ratios "
   ]
  },
  {
   "cell_type": "code",
   "execution_count": null,
   "id": "57050836-abe6-497e-8ef8-e14bd4a61a42",
   "metadata": {},
   "outputs": [],
   "source": [
    ".nlargest(20, 'Market Cap')"
   ]
  },
  {
   "cell_type": "code",
   "execution_count": null,
   "id": "79d2cf5a-be1f-4f02-a0d1-88d6325b6ea3",
   "metadata": {},
   "outputs": [],
   "source": [
    "tsla_data['7_day_mean'] = tsla_data['close'].rolling(window=7).mean()\n",
    "- calculates the 7-day rolling meano of an asset"
   ]
  },
  {
   "cell_type": "code",
   "execution_count": null,
   "id": "246f641b-1361-4a52-8d31-f7ad63e1fbc9",
   "metadata": {},
   "outputs": [],
   "source": [
    ".cov() - covriance \n",
    "covariance = daily_returns['stock'].cov(daily_returns['market'])\n",
    " - measures how two variables cove in relation to eachother "
   ]
  },
  {
   "cell_type": "code",
   "execution_count": null,
   "id": "2bc77ebc-e46f-4366-824e-7c7be804b89f",
   "metadata": {},
   "outputs": [],
   "source": [
    ".var() - variance "
   ]
  },
  {
   "cell_type": "code",
   "execution_count": null,
   "id": "3238c56e-ab8a-4258-9b4e-1005db87e920",
   "metadata": {},
   "outputs": [],
   "source": [
    "beta = covariance / variance "
   ]
  }
 ],
 "metadata": {
  "kernelspec": {
   "display_name": "Python 3 (ipykernel)",
   "language": "python",
   "name": "python3"
  },
  "language_info": {
   "codemirror_mode": {
    "name": "ipython",
    "version": 3
   },
   "file_extension": ".py",
   "mimetype": "text/x-python",
   "name": "python",
   "nbconvert_exporter": "python",
   "pygments_lexer": "ipython3",
   "version": "3.11.5"
  }
 },
 "nbformat": 4,
 "nbformat_minor": 5
}
