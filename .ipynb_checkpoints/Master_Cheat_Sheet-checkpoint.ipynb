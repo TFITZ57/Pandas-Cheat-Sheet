{
 "cells": [
  {
   "cell_type": "markdown",
   "id": "4a589b76",
   "metadata": {},
   "source": [
    "# Python/Pandas Master Cheat Sheet "
   ]
  },
  {
   "cell_type": "markdown",
   "id": "0e9402ec",
   "metadata": {},
   "source": [
    "This notebook lists unique Python and Pandas functions, methods, and parameters extracted from various sources and "
   ]
  },
  {
   "cell_type": "markdown",
   "id": "be99716c-19c6-4508-864d-51b7502734c7",
   "metadata": {},
   "source": [
    "PYVIZ DATA VISUALIZATION"
   ]
  },
  {
   "cell_type": "code",
   "execution_count": 2,
   "id": "af6e43dd-8e7f-4adc-aae9-54331c132135",
   "metadata": {
    "tags": []
   },
   "outputs": [
    {
     "data": {
      "application/javascript": [
       "(function(root) {\n",
       "  function now() {\n",
       "    return new Date();\n",
       "  }\n",
       "\n",
       "  var force = true;\n",
       "  var py_version = '3.2.1'.replace('rc', '-rc.').replace('.dev', '-dev.');\n",
       "  var is_dev = py_version.indexOf(\"+\") !== -1 || py_version.indexOf(\"-\") !== -1;\n",
       "  var reloading = false;\n",
       "  var Bokeh = root.Bokeh;\n",
       "  var bokeh_loaded = Bokeh != null && (Bokeh.version === py_version || (Bokeh.versions !== undefined && Bokeh.versions.has(py_version)));\n",
       "\n",
       "  if (typeof (root._bokeh_timeout) === \"undefined\" || force) {\n",
       "    root._bokeh_timeout = Date.now() + 5000;\n",
       "    root._bokeh_failed_load = false;\n",
       "  }\n",
       "\n",
       "  function run_callbacks() {\n",
       "    try {\n",
       "      root._bokeh_onload_callbacks.forEach(function(callback) {\n",
       "        if (callback != null)\n",
       "          callback();\n",
       "      });\n",
       "    } finally {\n",
       "      delete root._bokeh_onload_callbacks;\n",
       "    }\n",
       "    console.debug(\"Bokeh: all callbacks have finished\");\n",
       "  }\n",
       "\n",
       "  function load_libs(css_urls, js_urls, js_modules, js_exports, callback) {\n",
       "    if (css_urls == null) css_urls = [];\n",
       "    if (js_urls == null) js_urls = [];\n",
       "    if (js_modules == null) js_modules = [];\n",
       "    if (js_exports == null) js_exports = {};\n",
       "\n",
       "    root._bokeh_onload_callbacks.push(callback);\n",
       "\n",
       "    if (root._bokeh_is_loading > 0) {\n",
       "      console.debug(\"Bokeh: BokehJS is being loaded, scheduling callback at\", now());\n",
       "      return null;\n",
       "    }\n",
       "    if (js_urls.length === 0 && js_modules.length === 0 && Object.keys(js_exports).length === 0) {\n",
       "      run_callbacks();\n",
       "      return null;\n",
       "    }\n",
       "    if (!reloading) {\n",
       "      console.debug(\"Bokeh: BokehJS not loaded, scheduling load and callback at\", now());\n",
       "    }\n",
       "\n",
       "    function on_load() {\n",
       "      root._bokeh_is_loading--;\n",
       "      if (root._bokeh_is_loading === 0) {\n",
       "        console.debug(\"Bokeh: all BokehJS libraries/stylesheets loaded\");\n",
       "        run_callbacks()\n",
       "      }\n",
       "    }\n",
       "    window._bokeh_on_load = on_load\n",
       "\n",
       "    function on_error() {\n",
       "      console.error(\"failed to load \" + url);\n",
       "    }\n",
       "\n",
       "    var skip = [];\n",
       "    if (window.requirejs) {\n",
       "      window.requirejs.config({'packages': {}, 'paths': {'jspanel': 'https://cdn.jsdelivr.net/npm/jspanel4@4.12.0/dist/jspanel', 'jspanel-modal': 'https://cdn.jsdelivr.net/npm/jspanel4@4.12.0/dist/extensions/modal/jspanel.modal', 'jspanel-tooltip': 'https://cdn.jsdelivr.net/npm/jspanel4@4.12.0/dist/extensions/tooltip/jspanel.tooltip', 'jspanel-hint': 'https://cdn.jsdelivr.net/npm/jspanel4@4.12.0/dist/extensions/hint/jspanel.hint', 'jspanel-layout': 'https://cdn.jsdelivr.net/npm/jspanel4@4.12.0/dist/extensions/layout/jspanel.layout', 'jspanel-contextmenu': 'https://cdn.jsdelivr.net/npm/jspanel4@4.12.0/dist/extensions/contextmenu/jspanel.contextmenu', 'jspanel-dock': 'https://cdn.jsdelivr.net/npm/jspanel4@4.12.0/dist/extensions/dock/jspanel.dock', 'gridstack': 'https://cdn.jsdelivr.net/npm/gridstack@7.2.3/dist/gridstack-all', 'notyf': 'https://cdn.jsdelivr.net/npm/notyf@3/notyf.min'}, 'shim': {'jspanel': {'exports': 'jsPanel'}, 'gridstack': {'exports': 'GridStack'}}});\n",
       "      require([\"jspanel\"], function(jsPanel) {\n",
       "\twindow.jsPanel = jsPanel\n",
       "\ton_load()\n",
       "      })\n",
       "      require([\"jspanel-modal\"], function() {\n",
       "\ton_load()\n",
       "      })\n",
       "      require([\"jspanel-tooltip\"], function() {\n",
       "\ton_load()\n",
       "      })\n",
       "      require([\"jspanel-hint\"], function() {\n",
       "\ton_load()\n",
       "      })\n",
       "      require([\"jspanel-layout\"], function() {\n",
       "\ton_load()\n",
       "      })\n",
       "      require([\"jspanel-contextmenu\"], function() {\n",
       "\ton_load()\n",
       "      })\n",
       "      require([\"jspanel-dock\"], function() {\n",
       "\ton_load()\n",
       "      })\n",
       "      require([\"gridstack\"], function(GridStack) {\n",
       "\twindow.GridStack = GridStack\n",
       "\ton_load()\n",
       "      })\n",
       "      require([\"notyf\"], function() {\n",
       "\ton_load()\n",
       "      })\n",
       "      root._bokeh_is_loading = css_urls.length + 9;\n",
       "    } else {\n",
       "      root._bokeh_is_loading = css_urls.length + js_urls.length + js_modules.length + Object.keys(js_exports).length;\n",
       "    }\n",
       "\n",
       "    var existing_stylesheets = []\n",
       "    var links = document.getElementsByTagName('link')\n",
       "    for (var i = 0; i < links.length; i++) {\n",
       "      var link = links[i]\n",
       "      if (link.href != null) {\n",
       "\texisting_stylesheets.push(link.href)\n",
       "      }\n",
       "    }\n",
       "    for (var i = 0; i < css_urls.length; i++) {\n",
       "      var url = css_urls[i];\n",
       "      if (existing_stylesheets.indexOf(url) !== -1) {\n",
       "\ton_load()\n",
       "\tcontinue;\n",
       "      }\n",
       "      const element = document.createElement(\"link\");\n",
       "      element.onload = on_load;\n",
       "      element.onerror = on_error;\n",
       "      element.rel = \"stylesheet\";\n",
       "      element.type = \"text/css\";\n",
       "      element.href = url;\n",
       "      console.debug(\"Bokeh: injecting link tag for BokehJS stylesheet: \", url);\n",
       "      document.body.appendChild(element);\n",
       "    }    if (((window['jsPanel'] !== undefined) && (!(window['jsPanel'] instanceof HTMLElement))) || window.requirejs) {\n",
       "      var urls = ['https://cdn.holoviz.org/panel/1.2.3/dist/bundled/floatpanel/jspanel4@4.12.0/dist/jspanel.js', 'https://cdn.holoviz.org/panel/1.2.3/dist/bundled/floatpanel/jspanel4@4.12.0/dist/extensions/modal/jspanel.modal.js', 'https://cdn.holoviz.org/panel/1.2.3/dist/bundled/floatpanel/jspanel4@4.12.0/dist/extensions/tooltip/jspanel.tooltip.js', 'https://cdn.holoviz.org/panel/1.2.3/dist/bundled/floatpanel/jspanel4@4.12.0/dist/extensions/hint/jspanel.hint.js', 'https://cdn.holoviz.org/panel/1.2.3/dist/bundled/floatpanel/jspanel4@4.12.0/dist/extensions/layout/jspanel.layout.js', 'https://cdn.holoviz.org/panel/1.2.3/dist/bundled/floatpanel/jspanel4@4.12.0/dist/extensions/contextmenu/jspanel.contextmenu.js', 'https://cdn.holoviz.org/panel/1.2.3/dist/bundled/floatpanel/jspanel4@4.12.0/dist/extensions/dock/jspanel.dock.js'];\n",
       "      for (var i = 0; i < urls.length; i++) {\n",
       "        skip.push(urls[i])\n",
       "      }\n",
       "    }    if (((window['GridStack'] !== undefined) && (!(window['GridStack'] instanceof HTMLElement))) || window.requirejs) {\n",
       "      var urls = ['https://cdn.holoviz.org/panel/1.2.3/dist/bundled/gridstack/gridstack@7.2.3/dist/gridstack-all.js'];\n",
       "      for (var i = 0; i < urls.length; i++) {\n",
       "        skip.push(urls[i])\n",
       "      }\n",
       "    }    if (((window['Notyf'] !== undefined) && (!(window['Notyf'] instanceof HTMLElement))) || window.requirejs) {\n",
       "      var urls = ['https://cdn.holoviz.org/panel/1.2.3/dist/bundled/notificationarea/notyf@3/notyf.min.js'];\n",
       "      for (var i = 0; i < urls.length; i++) {\n",
       "        skip.push(urls[i])\n",
       "      }\n",
       "    }    var existing_scripts = []\n",
       "    var scripts = document.getElementsByTagName('script')\n",
       "    for (var i = 0; i < scripts.length; i++) {\n",
       "      var script = scripts[i]\n",
       "      if (script.src != null) {\n",
       "\texisting_scripts.push(script.src)\n",
       "      }\n",
       "    }\n",
       "    for (var i = 0; i < js_urls.length; i++) {\n",
       "      var url = js_urls[i];\n",
       "      if (skip.indexOf(url) !== -1 || existing_scripts.indexOf(url) !== -1) {\n",
       "\tif (!window.requirejs) {\n",
       "\t  on_load();\n",
       "\t}\n",
       "\tcontinue;\n",
       "      }\n",
       "      var element = document.createElement('script');\n",
       "      element.onload = on_load;\n",
       "      element.onerror = on_error;\n",
       "      element.async = false;\n",
       "      element.src = url;\n",
       "      console.debug(\"Bokeh: injecting script tag for BokehJS library: \", url);\n",
       "      document.head.appendChild(element);\n",
       "    }\n",
       "    for (var i = 0; i < js_modules.length; i++) {\n",
       "      var url = js_modules[i];\n",
       "      if (skip.indexOf(url) !== -1 || existing_scripts.indexOf(url) !== -1) {\n",
       "\tif (!window.requirejs) {\n",
       "\t  on_load();\n",
       "\t}\n",
       "\tcontinue;\n",
       "      }\n",
       "      var element = document.createElement('script');\n",
       "      element.onload = on_load;\n",
       "      element.onerror = on_error;\n",
       "      element.async = false;\n",
       "      element.src = url;\n",
       "      element.type = \"module\";\n",
       "      console.debug(\"Bokeh: injecting script tag for BokehJS library: \", url);\n",
       "      document.head.appendChild(element);\n",
       "    }\n",
       "    for (const name in js_exports) {\n",
       "      var url = js_exports[name];\n",
       "      if (skip.indexOf(url) >= 0 || root[name] != null) {\n",
       "\tif (!window.requirejs) {\n",
       "\t  on_load();\n",
       "\t}\n",
       "\tcontinue;\n",
       "      }\n",
       "      var element = document.createElement('script');\n",
       "      element.onerror = on_error;\n",
       "      element.async = false;\n",
       "      element.type = \"module\";\n",
       "      console.debug(\"Bokeh: injecting script tag for BokehJS library: \", url);\n",
       "      element.textContent = `\n",
       "      import ${name} from \"${url}\"\n",
       "      window.${name} = ${name}\n",
       "      window._bokeh_on_load()\n",
       "      `\n",
       "      document.head.appendChild(element);\n",
       "    }\n",
       "    if (!js_urls.length && !js_modules.length) {\n",
       "      on_load()\n",
       "    }\n",
       "  };\n",
       "\n",
       "  function inject_raw_css(css) {\n",
       "    const element = document.createElement(\"style\");\n",
       "    element.appendChild(document.createTextNode(css));\n",
       "    document.body.appendChild(element);\n",
       "  }\n",
       "\n",
       "  var js_urls = [\"https://cdn.bokeh.org/bokeh/release/bokeh-3.2.1.min.js\", \"https://cdn.bokeh.org/bokeh/release/bokeh-gl-3.2.1.min.js\", \"https://cdn.bokeh.org/bokeh/release/bokeh-widgets-3.2.1.min.js\", \"https://cdn.bokeh.org/bokeh/release/bokeh-tables-3.2.1.min.js\", \"https://cdn.holoviz.org/panel/1.2.3/dist/panel.min.js\"];\n",
       "  var js_modules = [];\n",
       "  var js_exports = {};\n",
       "  var css_urls = [];\n",
       "  var inline_js = [    function(Bokeh) {\n",
       "      Bokeh.set_log_level(\"info\");\n",
       "    },\n",
       "function(Bokeh) {} // ensure no trailing comma for IE\n",
       "  ];\n",
       "\n",
       "  function run_inline_js() {\n",
       "    if ((root.Bokeh !== undefined) || (force === true)) {\n",
       "      for (var i = 0; i < inline_js.length; i++) {\n",
       "        inline_js[i].call(root, root.Bokeh);\n",
       "      }\n",
       "      // Cache old bokeh versions\n",
       "      if (Bokeh != undefined && !reloading) {\n",
       "\tvar NewBokeh = root.Bokeh;\n",
       "\tif (Bokeh.versions === undefined) {\n",
       "\t  Bokeh.versions = new Map();\n",
       "\t}\n",
       "\tif (NewBokeh.version !== Bokeh.version) {\n",
       "\t  Bokeh.versions.set(NewBokeh.version, NewBokeh)\n",
       "\t}\n",
       "\troot.Bokeh = Bokeh;\n",
       "      }} else if (Date.now() < root._bokeh_timeout) {\n",
       "      setTimeout(run_inline_js, 100);\n",
       "    } else if (!root._bokeh_failed_load) {\n",
       "      console.log(\"Bokeh: BokehJS failed to load within specified timeout.\");\n",
       "      root._bokeh_failed_load = true;\n",
       "    }\n",
       "    root._bokeh_is_initializing = false\n",
       "  }\n",
       "\n",
       "  function load_or_wait() {\n",
       "    // Implement a backoff loop that tries to ensure we do not load multiple\n",
       "    // versions of Bokeh and its dependencies at the same time.\n",
       "    // In recent versions we use the root._bokeh_is_initializing flag\n",
       "    // to determine whether there is an ongoing attempt to initialize\n",
       "    // bokeh, however for backward compatibility we also try to ensure\n",
       "    // that we do not start loading a newer (Panel>=1.0 and Bokeh>3) version\n",
       "    // before older versions are fully initialized.\n",
       "    if (root._bokeh_is_initializing && Date.now() > root._bokeh_timeout) {\n",
       "      root._bokeh_is_initializing = false;\n",
       "      root._bokeh_onload_callbacks = undefined;\n",
       "      console.log(\"Bokeh: BokehJS was loaded multiple times but one version failed to initialize.\");\n",
       "      load_or_wait();\n",
       "    } else if (root._bokeh_is_initializing || (typeof root._bokeh_is_initializing === \"undefined\" && root._bokeh_onload_callbacks !== undefined)) {\n",
       "      setTimeout(load_or_wait, 100);\n",
       "    } else {\n",
       "      Bokeh = root.Bokeh;\n",
       "      bokeh_loaded = Bokeh != null && (Bokeh.version === py_version || (Bokeh.versions !== undefined && Bokeh.versions.has(py_version)));\n",
       "      root._bokeh_is_initializing = true\n",
       "      root._bokeh_onload_callbacks = []\n",
       "      if (!reloading && (!bokeh_loaded || is_dev)) {\n",
       "\troot.Bokeh = undefined;\n",
       "      }\n",
       "      load_libs(css_urls, js_urls, js_modules, js_exports, function() {\n",
       "\tconsole.debug(\"Bokeh: BokehJS plotting callback run at\", now());\n",
       "\trun_inline_js();\n",
       "      });\n",
       "    }\n",
       "  }\n",
       "  // Give older versions of the autoload script a head-start to ensure\n",
       "  // they initialize before we start loading newer version.\n",
       "  setTimeout(load_or_wait, 100)\n",
       "}(window));"
      ],
      "application/vnd.holoviews_load.v0+json": ""
     },
     "metadata": {},
     "output_type": "display_data"
    },
    {
     "data": {
      "application/javascript": [
       "\n",
       "if ((window.PyViz === undefined) || (window.PyViz instanceof HTMLElement)) {\n",
       "  window.PyViz = {comms: {}, comm_status:{}, kernels:{}, receivers: {}, plot_index: []}\n",
       "}\n",
       "\n",
       "\n",
       "    function JupyterCommManager() {\n",
       "    }\n",
       "\n",
       "    JupyterCommManager.prototype.register_target = function(plot_id, comm_id, msg_handler) {\n",
       "      if (window.comm_manager || ((window.Jupyter !== undefined) && (Jupyter.notebook.kernel != null))) {\n",
       "        var comm_manager = window.comm_manager || Jupyter.notebook.kernel.comm_manager;\n",
       "        comm_manager.register_target(comm_id, function(comm) {\n",
       "          comm.on_msg(msg_handler);\n",
       "        });\n",
       "      } else if ((plot_id in window.PyViz.kernels) && (window.PyViz.kernels[plot_id])) {\n",
       "        window.PyViz.kernels[plot_id].registerCommTarget(comm_id, function(comm) {\n",
       "          comm.onMsg = msg_handler;\n",
       "        });\n",
       "      } else if (typeof google != 'undefined' && google.colab.kernel != null) {\n",
       "        google.colab.kernel.comms.registerTarget(comm_id, (comm) => {\n",
       "          var messages = comm.messages[Symbol.asyncIterator]();\n",
       "          function processIteratorResult(result) {\n",
       "            var message = result.value;\n",
       "            console.log(message)\n",
       "            var content = {data: message.data, comm_id};\n",
       "            var buffers = []\n",
       "            for (var buffer of message.buffers || []) {\n",
       "              buffers.push(new DataView(buffer))\n",
       "            }\n",
       "            var metadata = message.metadata || {};\n",
       "            var msg = {content, buffers, metadata}\n",
       "            msg_handler(msg);\n",
       "            return messages.next().then(processIteratorResult);\n",
       "          }\n",
       "          return messages.next().then(processIteratorResult);\n",
       "        })\n",
       "      }\n",
       "    }\n",
       "\n",
       "    JupyterCommManager.prototype.get_client_comm = function(plot_id, comm_id, msg_handler) {\n",
       "      if (comm_id in window.PyViz.comms) {\n",
       "        return window.PyViz.comms[comm_id];\n",
       "      } else if (window.comm_manager || ((window.Jupyter !== undefined) && (Jupyter.notebook.kernel != null))) {\n",
       "        var comm_manager = window.comm_manager || Jupyter.notebook.kernel.comm_manager;\n",
       "        var comm = comm_manager.new_comm(comm_id, {}, {}, {}, comm_id);\n",
       "        if (msg_handler) {\n",
       "          comm.on_msg(msg_handler);\n",
       "        }\n",
       "      } else if ((plot_id in window.PyViz.kernels) && (window.PyViz.kernels[plot_id])) {\n",
       "        var comm = window.PyViz.kernels[plot_id].connectToComm(comm_id);\n",
       "        comm.open();\n",
       "        if (msg_handler) {\n",
       "          comm.onMsg = msg_handler;\n",
       "        }\n",
       "      } else if (typeof google != 'undefined' && google.colab.kernel != null) {\n",
       "        var comm_promise = google.colab.kernel.comms.open(comm_id)\n",
       "        comm_promise.then((comm) => {\n",
       "          window.PyViz.comms[comm_id] = comm;\n",
       "          if (msg_handler) {\n",
       "            var messages = comm.messages[Symbol.asyncIterator]();\n",
       "            function processIteratorResult(result) {\n",
       "              var message = result.value;\n",
       "              var content = {data: message.data};\n",
       "              var metadata = message.metadata || {comm_id};\n",
       "              var msg = {content, metadata}\n",
       "              msg_handler(msg);\n",
       "              return messages.next().then(processIteratorResult);\n",
       "            }\n",
       "            return messages.next().then(processIteratorResult);\n",
       "          }\n",
       "        }) \n",
       "        var sendClosure = (data, metadata, buffers, disposeOnDone) => {\n",
       "          return comm_promise.then((comm) => {\n",
       "            comm.send(data, metadata, buffers, disposeOnDone);\n",
       "          });\n",
       "        };\n",
       "        var comm = {\n",
       "          send: sendClosure\n",
       "        };\n",
       "      }\n",
       "      window.PyViz.comms[comm_id] = comm;\n",
       "      return comm;\n",
       "    }\n",
       "    window.PyViz.comm_manager = new JupyterCommManager();\n",
       "    \n",
       "\n",
       "\n",
       "var JS_MIME_TYPE = 'application/javascript';\n",
       "var HTML_MIME_TYPE = 'text/html';\n",
       "var EXEC_MIME_TYPE = 'application/vnd.holoviews_exec.v0+json';\n",
       "var CLASS_NAME = 'output';\n",
       "\n",
       "/**\n",
       " * Render data to the DOM node\n",
       " */\n",
       "function render(props, node) {\n",
       "  var div = document.createElement(\"div\");\n",
       "  var script = document.createElement(\"script\");\n",
       "  node.appendChild(div);\n",
       "  node.appendChild(script);\n",
       "}\n",
       "\n",
       "/**\n",
       " * Handle when a new output is added\n",
       " */\n",
       "function handle_add_output(event, handle) {\n",
       "  var output_area = handle.output_area;\n",
       "  var output = handle.output;\n",
       "  if ((output.data == undefined) || (!output.data.hasOwnProperty(EXEC_MIME_TYPE))) {\n",
       "    return\n",
       "  }\n",
       "  var id = output.metadata[EXEC_MIME_TYPE][\"id\"];\n",
       "  var toinsert = output_area.element.find(\".\" + CLASS_NAME.split(' ')[0]);\n",
       "  if (id !== undefined) {\n",
       "    var nchildren = toinsert.length;\n",
       "    var html_node = toinsert[nchildren-1].children[0];\n",
       "    html_node.innerHTML = output.data[HTML_MIME_TYPE];\n",
       "    var scripts = [];\n",
       "    var nodelist = html_node.querySelectorAll(\"script\");\n",
       "    for (var i in nodelist) {\n",
       "      if (nodelist.hasOwnProperty(i)) {\n",
       "        scripts.push(nodelist[i])\n",
       "      }\n",
       "    }\n",
       "\n",
       "    scripts.forEach( function (oldScript) {\n",
       "      var newScript = document.createElement(\"script\");\n",
       "      var attrs = [];\n",
       "      var nodemap = oldScript.attributes;\n",
       "      for (var j in nodemap) {\n",
       "        if (nodemap.hasOwnProperty(j)) {\n",
       "          attrs.push(nodemap[j])\n",
       "        }\n",
       "      }\n",
       "      attrs.forEach(function(attr) { newScript.setAttribute(attr.name, attr.value) });\n",
       "      newScript.appendChild(document.createTextNode(oldScript.innerHTML));\n",
       "      oldScript.parentNode.replaceChild(newScript, oldScript);\n",
       "    });\n",
       "    if (JS_MIME_TYPE in output.data) {\n",
       "      toinsert[nchildren-1].children[1].textContent = output.data[JS_MIME_TYPE];\n",
       "    }\n",
       "    output_area._hv_plot_id = id;\n",
       "    if ((window.Bokeh !== undefined) && (id in Bokeh.index)) {\n",
       "      window.PyViz.plot_index[id] = Bokeh.index[id];\n",
       "    } else {\n",
       "      window.PyViz.plot_index[id] = null;\n",
       "    }\n",
       "  } else if (output.metadata[EXEC_MIME_TYPE][\"server_id\"] !== undefined) {\n",
       "    var bk_div = document.createElement(\"div\");\n",
       "    bk_div.innerHTML = output.data[HTML_MIME_TYPE];\n",
       "    var script_attrs = bk_div.children[0].attributes;\n",
       "    for (var i = 0; i < script_attrs.length; i++) {\n",
       "      toinsert[toinsert.length - 1].childNodes[1].setAttribute(script_attrs[i].name, script_attrs[i].value);\n",
       "    }\n",
       "    // store reference to server id on output_area\n",
       "    output_area._bokeh_server_id = output.metadata[EXEC_MIME_TYPE][\"server_id\"];\n",
       "  }\n",
       "}\n",
       "\n",
       "/**\n",
       " * Handle when an output is cleared or removed\n",
       " */\n",
       "function handle_clear_output(event, handle) {\n",
       "  var id = handle.cell.output_area._hv_plot_id;\n",
       "  var server_id = handle.cell.output_area._bokeh_server_id;\n",
       "  if (((id === undefined) || !(id in PyViz.plot_index)) && (server_id !== undefined)) { return; }\n",
       "  var comm = window.PyViz.comm_manager.get_client_comm(\"hv-extension-comm\", \"hv-extension-comm\", function () {});\n",
       "  if (server_id !== null) {\n",
       "    comm.send({event_type: 'server_delete', 'id': server_id});\n",
       "    return;\n",
       "  } else if (comm !== null) {\n",
       "    comm.send({event_type: 'delete', 'id': id});\n",
       "  }\n",
       "  delete PyViz.plot_index[id];\n",
       "  if ((window.Bokeh !== undefined) & (id in window.Bokeh.index)) {\n",
       "    var doc = window.Bokeh.index[id].model.document\n",
       "    doc.clear();\n",
       "    const i = window.Bokeh.documents.indexOf(doc);\n",
       "    if (i > -1) {\n",
       "      window.Bokeh.documents.splice(i, 1);\n",
       "    }\n",
       "  }\n",
       "}\n",
       "\n",
       "/**\n",
       " * Handle kernel restart event\n",
       " */\n",
       "function handle_kernel_cleanup(event, handle) {\n",
       "  delete PyViz.comms[\"hv-extension-comm\"];\n",
       "  window.PyViz.plot_index = {}\n",
       "}\n",
       "\n",
       "/**\n",
       " * Handle update_display_data messages\n",
       " */\n",
       "function handle_update_output(event, handle) {\n",
       "  handle_clear_output(event, {cell: {output_area: handle.output_area}})\n",
       "  handle_add_output(event, handle)\n",
       "}\n",
       "\n",
       "function register_renderer(events, OutputArea) {\n",
       "  function append_mime(data, metadata, element) {\n",
       "    // create a DOM node to render to\n",
       "    var toinsert = this.create_output_subarea(\n",
       "    metadata,\n",
       "    CLASS_NAME,\n",
       "    EXEC_MIME_TYPE\n",
       "    );\n",
       "    this.keyboard_manager.register_events(toinsert);\n",
       "    // Render to node\n",
       "    var props = {data: data, metadata: metadata[EXEC_MIME_TYPE]};\n",
       "    render(props, toinsert[0]);\n",
       "    element.append(toinsert);\n",
       "    return toinsert\n",
       "  }\n",
       "\n",
       "  events.on('output_added.OutputArea', handle_add_output);\n",
       "  events.on('output_updated.OutputArea', handle_update_output);\n",
       "  events.on('clear_output.CodeCell', handle_clear_output);\n",
       "  events.on('delete.Cell', handle_clear_output);\n",
       "  events.on('kernel_ready.Kernel', handle_kernel_cleanup);\n",
       "\n",
       "  OutputArea.prototype.register_mime_type(EXEC_MIME_TYPE, append_mime, {\n",
       "    safe: true,\n",
       "    index: 0\n",
       "  });\n",
       "}\n",
       "\n",
       "if (window.Jupyter !== undefined) {\n",
       "  try {\n",
       "    var events = require('base/js/events');\n",
       "    var OutputArea = require('notebook/js/outputarea').OutputArea;\n",
       "    if (OutputArea.prototype.mime_types().indexOf(EXEC_MIME_TYPE) == -1) {\n",
       "      register_renderer(events, OutputArea);\n",
       "    }\n",
       "  } catch(err) {\n",
       "  }\n",
       "}\n"
      ],
      "application/vnd.holoviews_load.v0+json": ""
     },
     "metadata": {},
     "output_type": "display_data"
    },
    {
     "data": {
      "text/html": [
       "<style>*[data-root-id],\n",
       "*[data-root-id] > * {\n",
       "  box-sizing: border-box;\n",
       "  font-family: var(--jp-ui-font-family);\n",
       "  font-size: var(--jp-ui-font-size1);\n",
       "  color: var(--vscode-editor-foreground, var(--jp-ui-font-color1));\n",
       "}\n",
       "\n",
       "/* Override VSCode background color */\n",
       ".cell-output-ipywidget-background:has(\n",
       "    > .cell-output-ipywidget-background > .lm-Widget > *[data-root-id]\n",
       "  ),\n",
       ".cell-output-ipywidget-background:has(> .lm-Widget > *[data-root-id]) {\n",
       "  background-color: transparent !important;\n",
       "}\n",
       "</style>"
      ]
     },
     "metadata": {},
     "output_type": "display_data"
    }
   ],
   "source": [
    "import hvplot.pandas"
   ]
  },
  {
   "cell_type": "code",
   "execution_count": null,
   "id": "b2d6a6d0",
   "metadata": {},
   "outputs": [],
   "source": [
    "# show plot options and parameters\n",
    "hvplot.help('kind')"
   ]
  },
  {
   "cell_type": "code",
   "execution_count": null,
   "id": "ff4460e9-8ce8-4509-953c-36aeaa0f0aed",
   "metadata": {},
   "outputs": [],
   "source": [
    "# generate a standard hvplot\n",
    "df.hvplot(\n",
    "    x='x',\n",
    "    y='y',\n",
    "    kind='scatter',\n",
    "    title='Standard hvplot',\n",
    "    xlabel='X',\n",
    "    ylabel='Y'\n",
    ")"
   ]
  },
  {
   "cell_type": "code",
   "execution_count": null,
   "id": "a4834d3d",
   "metadata": {},
   "outputs": [],
   "source": [
    "hvplot.bar(\n",
    "    x=\"Provider State\",\n",
    "    y=\"Average Total Payments\",\n",
    "    title=\"Total Payments by State\"\n",
    ")"
   ]
  },
  {
   "cell_type": "code",
   "execution_count": null,
   "id": "8526914d",
   "metadata": {},
   "outputs": [],
   "source": [
    "# generate a line plot\n",
    "df.hvplot.line(\n",
    "    x='year',\n",
    "    y='value',\n",
    "    groupby='variable',\n",
    "    title='Value by Year'\n",
    ")"
   ]
  },
  {
   "cell_type": "code",
   "execution_count": null,
   "id": "5da4b0b3-b8d2-4e4d-84e6-58e1a5827737",
   "metadata": {},
   "outputs": [],
   "source": [
    "# generate a scatter plot\n",
    "df.hvplot.scatter(\n",
    "    x='col1',\n",
    "    y='col2',\n",
    "    c='col3',\n",
    "    cmap='viridis',\n",
    "    title='Scatter Plot'\n",
    ")   "
   ]
  },
  {
   "cell_type": "code",
   "execution_count": null,
   "id": "f4fb1332-a65c-4370-924c-fe80960f0da5",
   "metadata": {},
   "outputs": [],
   "source": [
    "# Composing Plots\n",
    "\n",
    "#side by side \n",
    "    df_plot1 + df_plot2 + df_plot3\n",
    "#vertically \n",
    "    (df_plot1 + df_plot2 + df_plot3).cols(1)\n",
    "#overlay\n",
    "    df_plot1 * df_plot2 * df_plot3\n",
    "    "
   ]
  },
  {
   "cell_type": "code",
   "execution_count": null,
   "id": "cda9e660-dfdb-497b-b1b7-d7d67bfefe55",
   "metadata": {},
   "outputs": [],
   "source": [
    "# all types of hvplots.\n",
    ".area(): Plots a area chart similar to a line chart except for filling the area under the curve and optionally stacking\n",
    "\n",
    ".bar(): Plots a bar chart that can be stacked or grouped\n",
    "\n",
    ".bivariate(): Plots 2D density of a set of points\n",
    "\n",
    ".box(): Plots a box-whisker chart comparing the distribution of one or more variables\n",
    "\n",
    ".heatmap(): Plots a heatmap to visualizing a variable across two independent dimensions\n",
    "\n",
    ".hexbins(): Plots hex bins\n",
    "\n",
    ".hist(): Plots the distribution of one or histograms as a set of bins\n",
    "\n",
    ".kde(): Plots the kernel density estimate of one or more variables.\n",
    "\n",
    ".line(): Plots a line chart (such as for a time series)\n",
    "\n",
    ".scatter(): Plots a scatter chart comparing two variables\n",
    "\n",
    ".step(): Plots a step chart akin to a line plot\n",
    "\n",
    ".table(): Generates a SlickGrid DataTable\n",
    "\n",
    ".violin(): Plots a violin plot comparing the distribution of one or more variables using the kernel density estimate"
   ]
  },
  {
   "cell_type": "markdown",
   "id": "9e0ba72a-86d4-4d2e-9d19-973653ee7181",
   "metadata": {},
   "source": [
    "API's"
   ]
  },
  {
   "cell_type": "code",
   "execution_count": null,
   "id": "8619b282-6c99-47eb-a7b1-3f8fc84f4bfe",
   "metadata": {},
   "outputs": [],
   "source": [
    "# Import libraries and dependencies\n",
    "import os\n",
    "import pandas as pd\n",
    "import alpaca_trade_api as tradeapi\n",
    "from dotenv import load_dotenv"
   ]
  },
  {
   "cell_type": "code",
   "execution_count": null,
   "id": "75318a51-c408-46ed-aa9c-479a415665e5",
   "metadata": {},
   "outputs": [],
   "source": [
    "# load environment variables into program\n",
    "load_dotenv('file.env')"
   ]
  },
  {
   "cell_type": "code",
   "execution_count": null,
   "id": "b2b26ba1-8b18-4d56-97cb-19366b003fcb",
   "metadata": {},
   "outputs": [],
   "source": [
    "# set specific environment variable from .env file\n",
    "api_key = os.getenv('API_KEY')"
   ]
  },
  {
   "cell_type": "code",
   "execution_count": null,
   "id": "057daef1-0670-4429-a948-ede281f80f6c",
   "metadata": {},
   "outputs": [],
   "source": [
    "# set api object to request ticker data\n",
    "api = tradeapi.REST(\n",
    "    alpaca_api_key,\n",
    "    alpaca_secret_key,\n",
    "    api_version=\"v2\"\n",
    ")"
   ]
  },
  {
   "cell_type": "code",
   "execution_count": null,
   "id": "035eb76c-5bf9-4a2a-85eb-3ada2678341f",
   "metadata": {},
   "outputs": [],
   "source": [
    "# set tickers variable\n",
    "tickers = ['TICKER1', 'TICKER2']"
   ]
  },
  {
   "cell_type": "code",
   "execution_count": null,
   "id": "65a64ff8-f739-49d6-bb3e-de13c81cbd5f",
   "metadata": {},
   "outputs": [],
   "source": [
    "# set current date in ISO format\n",
    "today = pd.Timestamp(\"todays date\", tz=\"America/New_York\").isoformat()"
   ]
  },
  {
   "cell_type": "code",
   "execution_count": null,
   "id": "efe10e1d-3a59-43e5-8ee5-fe11927c7b1f",
   "metadata": {},
   "outputs": [],
   "source": [
    "# set timeframe variable \n",
    "timeframe = '1day' or '1D'"
   ]
  },
  {
   "cell_type": "code",
   "execution_count": null,
   "id": "e1b89240-d32c-4f3f-b034-aaf94769dd8d",
   "metadata": {},
   "outputs": [],
   "source": [
    "#set start and end variables\n",
    "start_date = pd.Timestamp(\"start date\", tz=\"America/New_York\").isoformat()\n",
    "end_date = pd.Timestamp(\"end date\", tz=\"America/New_York\").isoformat()"
   ]
  },
  {
   "cell_type": "code",
   "execution_count": null,
   "id": "c89bc40c-a0cf-4286-a4bc-17f35651f51c",
   "metadata": {},
   "outputs": [],
   "source": [
    "# request api data\n",
    "df = api.get_bars(\n",
    "    ticker,\n",
    "    timeframe,\n",
    "    start=start_date,\n",
    "    end=end_date\n",
    ").df"
   ]
  },
  {
   "cell_type": "code",
   "execution_count": null,
   "id": "6c35ab1f-f5eb-47e3-a3cc-b5155fecd794",
   "metadata": {},
   "outputs": [],
   "source": [
    "# set the date as dataframe index \n",
    "df.index = df.index.date"
   ]
  },
  {
   "cell_type": "code",
   "execution_count": null,
   "id": "6eca0759-3260-494b-bbfd-32d4cfa74ad4",
   "metadata": {
    "tags": []
   },
   "outputs": [],
   "source": [
    "# reorganizes dataframe by separating tickers \n",
    "TICKER = df_ticker[df_ticker['symbol']=='TICKER'].drop('symbol', axis=1)\n",
    "TICKER2 = df_ticker[df_ticker['symbol']=='TICKER2'].drop('symbol', axis=1)\n",
    "TICKER3 = df_ticker[df_ticker['symbol']=='TICKER3'].drop('symbol', axis=1)"
   ]
  },
  {
   "cell_type": "code",
   "execution_count": null,
   "id": "cec3eef5-d0c1-4147-877d-1f0e9fe0d050",
   "metadata": {},
   "outputs": [],
   "source": [
    "# fetch closing prices for each ticker\n",
    "df_closing_prices['TICKER'] = df_ticker['TICKER']['close']\n",
    "df_closing_prices['TICKER2'] = df_ticker['TICKER2']['close']\n",
    "df_closing_prices['TICKER3'] = df_ticker['TICKER3']['close']"
   ]
  },
  {
   "cell_type": "code",
   "execution_count": null,
   "id": "56166633-4b26-47e8-ad29-a6c76cbadb49",
   "metadata": {},
   "outputs": [],
   "source": [
    "#concatonate closing ticker data into single dataframe\n",
    "df_ticker = pd.concat([TICKER, TICKER2, TICKER3], axis=1, keys=[\"TICKER\", \"TICKER2\", \"TICKER3\"])"
   ]
  },
  {
   "cell_type": "code",
   "execution_count": null,
   "id": "dd19744e-1fa1-41b6-9e68-eb4606f70c2f",
   "metadata": {},
   "outputs": [],
   "source": [
    "# plot data as a histogram \n",
    "df_daily_returns.plot.hist(alpha=0.5)"
   ]
  },
  {
   "cell_type": "code",
   "execution_count": null,
   "id": "14fd33eb-29dd-4763-91cd-c9447c02b81c",
   "metadata": {},
   "outputs": [],
   "source": [
    "# plot data as a density chart\n",
    "df_daily_returns.plot.density()"
   ]
  },
  {
   "cell_type": "markdown",
   "id": "40028c72-3205-42be-81bc-561b22375ecc",
   "metadata": {},
   "source": [
    "Monte Carlo Simulations "
   ]
  },
  {
   "cell_type": "code",
   "execution_count": null,
   "id": "ed7ac6a4-8c47-452a-a670-94f43a591309",
   "metadata": {},
   "outputs": [],
   "source": [
    "from MCForecastTools import MCSimulation"
   ]
  },
  {
   "cell_type": "code",
   "execution_count": null,
   "id": "d7545094-8ad1-479e-83db-310e5671b88e",
   "metadata": {},
   "outputs": [],
   "source": [
    "# configure monte carlo simulation\n",
    "MC = MCSimulation(\n",
    "    portfolio_data = df_ticker,\n",
    "    weights = [.00, .00. .00],\n",
    "    num_simulation = (number of simulations),\n",
    "    num_trading_days = 252*(number of years)\n",
    ")"
   ]
  },
  {
   "cell_type": "code",
   "execution_count": null,
   "id": "a9f9979e-6610-4fab-998a-98d47bfcf73c",
   "metadata": {},
   "outputs": [],
   "source": [
    "# run monte carlo simulation\n",
    "MC.calc_cumulative_return()"
   ]
  },
  {
   "cell_type": "code",
   "execution_count": null,
   "id": "cb90fd6d-255d-4e70-9ab5-1965ef692b3e",
   "metadata": {},
   "outputs": [],
   "source": [
    "# compute summary statistics from simulated data \n",
    "simulated_returns_data = {\n",
    "    \"mean\": list(MC.simulated_return.mean(axis=1)),\n",
    "    \"median\": list(MC.simulated_return.median(axis=1)),\n",
    "    \"min\": list(MC.simulated_return.min(axis=1)),\n",
    "    \"max\": list(MC.simulated_return.max(axis=1))"
   ]
  },
  {
   "cell_type": "code",
   "execution_count": null,
   "id": "e9c88ec5-e314-48bb-8da6-472bddebe7e9",
   "metadata": {},
   "outputs": [],
   "source": [
    "simulated_returns_data[['column1', 'column2']].plot(title='title of chart')"
   ]
  },
  {
   "cell_type": "code",
   "execution_count": null,
   "id": "3aae5d8f-3e85-440d-a5d8-a1f260d6830b",
   "metadata": {},
   "outputs": [],
   "source": [
    "# plot monte carlo simulation results as a line graph\n",
    "MC.plot_simulation()"
   ]
  },
  {
   "cell_type": "code",
   "execution_count": null,
   "id": "971c019a-4b8e-4036-89d8-3fa217a531de",
   "metadata": {},
   "outputs": [],
   "source": [
    "# plots probability distribution\n",
    "MC.plot_distribution()"
   ]
  },
  {
   "cell_type": "code",
   "execution_count": null,
   "id": "ffdc885f-2b81-4f32-bed9-59f478a0c731",
   "metadata": {},
   "outputs": [],
   "source": [
    "# fetch summary statistics from simulation results \n",
    "MC.summarize_cumulative_return()"
   ]
  },
  {
   "cell_type": "code",
   "execution_count": null,
   "id": "5d0e526f-f375-48c5-9a5e-1c6da3f0d2c5",
   "metadata": {},
   "outputs": [],
   "source": [
    "#save the plot data for suture use \n",
    "line_plot.get_figure().savefig(\"chart title.png\", bbox_inches=\"tight\")\n",
    "density_plot.get_figure().savefig(\"chart title.png\", bbox_inches=\"tight\")"
   ]
  },
  {
   "cell_type": "markdown",
   "id": "79577381-bd25-458e-8f26-143d29438d55",
   "metadata": {},
   "source": [
    "Reading The Data"
   ]
  },
  {
   "cell_type": "code",
   "execution_count": null,
   "id": "0c99e34c-8e21-4dd8-94ba-b5ebf1a4405a",
   "metadata": {},
   "outputs": [],
   "source": [
    "Path() - set file path"
   ]
  },
  {
   "cell_type": "code",
   "execution_count": null,
   "id": "5f4b4398-0e1b-47b7-a8a3-85f570ab0388",
   "metadata": {},
   "outputs": [],
   "source": [
    "pd.read_csv(file_path) - reads csv\n",
    "df.to_csv('dataframe.csv') - writes to csv file"
   ]
  },
  {
   "cell_type": "code",
   "execution_count": null,
   "id": "2be6f207-2e03-41c3-9a97-809e3ce21341",
   "metadata": {},
   "outputs": [],
   "source": [
    "xls = pd.ExcelFile('file.xls')\n",
    "pd.read_excel(xlsx,  'Sheet1') - read multiple sheets from the same file"
   ]
  },
  {
   "cell_type": "code",
   "execution_count": null,
   "id": "1b9c7101",
   "metadata": {},
   "outputs": [],
   "source": [
    "pd.read_csv(data_df, index_col=\"Month\") - Read the data then set the 'Month' column as the index "
   ]
  },
  {
   "cell_type": "code",
   "execution_count": null,
   "id": "fef2ae52-1a35-47b6-96c0-d0c07b3cd35c",
   "metadata": {},
   "outputs": [],
   "source": [
    "pd.read_csv(file_path, parse_dates=True, infer_datetime_format=True)\n",
    "   - parse_dates=True - instructs Pandas to automatically parse columns as datetime objects\n",
    "   - infer_datetime_format - pandas will infer the format of the datetime strings in column (speeds up parsing process)  "
   ]
  },
  {
   "cell_type": "code",
   "execution_count": null,
   "id": "ddecd6ae",
   "metadata": {},
   "outputs": [],
   "source": [
    ".head() / .tail() - shows the first or last five rows of a dataframe, unless specified otherwise"
   ]
  },
  {
   "cell_type": "markdown",
   "id": "f3caba0a-5833-4ca9-9555-1f46ba3158ff",
   "metadata": {},
   "source": [
    "Reindexing Dataframes"
   ]
  },
  {
   "cell_type": "code",
   "execution_count": null,
   "id": "c82b0307",
   "metadata": {},
   "outputs": [],
   "source": [
    ".sort_index(ascending=True) - low to high  "
   ]
  },
  {
   "cell_type": "code",
   "execution_count": null,
   "id": "98617723",
   "metadata": {},
   "outputs": [],
   "source": [
    ".sort_index(ascending=False) - high to low"
   ]
  },
  {
   "cell_type": "code",
   "execution_count": null,
   "id": "81157f19-3eea-4b88-922c-8fe8e30cb239",
   "metadata": {},
   "outputs": [],
   "source": [
    ".sort_values() - order rows by values of a column"
   ]
  },
  {
   "cell_type": "code",
   "execution_count": null,
   "id": "3f4d7e81-b76b-4ab8-9275-30fcdcd782a2",
   "metadata": {},
   "outputs": [],
   "source": [
    ".sort_values('data', ascending=False) - order rows by the values in the 'data' column in descending order"
   ]
  },
  {
   "cell_type": "code",
   "execution_count": null,
   "id": "1d15c11f-880e-461e-a397-ef62c7271c53",
   "metadata": {},
   "outputs": [],
   "source": [
    ".set_index(df['column']) - set 'column' as the new index for the dataframe"
   ]
  },
  {
   "cell_type": "code",
   "execution_count": null,
   "id": "9081ee62-5af3-4c88-bfa2-23375f398b2f",
   "metadata": {},
   "outputs": [],
   "source": [
    ".reset_index() - Reset index of dataframe to row numbers, moving the index into the columns"
   ]
  },
  {
   "cell_type": "markdown",
   "id": "ad85d512-3476-4dbf-a54e-fe4aa9b94c8f",
   "metadata": {
    "tags": []
   },
   "source": [
    "Renaming Dataframes"
   ]
  },
  {
   "cell_type": "code",
   "execution_count": null,
   "id": "59dc4c3f-3da7-4fc0-9619-35344e13570e",
   "metadata": {},
   "outputs": [],
   "source": [
    ".rename() - Rename 'name'"
   ]
  },
  {
   "cell_type": "code",
   "execution_count": null,
   "id": "5ecbbb8c-f0ec-4988-94af-3450e8bbb7d5",
   "metadata": {},
   "outputs": [],
   "source": [
    "col_names=([]) - Defines column names"
   ]
  },
  {
   "cell_type": "code",
   "execution_count": null,
   "id": "6259ad59-2cfb-464f-8eeb-0c57fcfbe094",
   "metadata": {},
   "outputs": [],
   "source": [
    "df.columns('name 1', 'name 2', 'name 3') - adds column names"
   ]
  },
  {
   "cell_type": "code",
   "execution_count": null,
   "id": "d39be991-7f3a-47b6-a8ca-f14270012f1c",
   "metadata": {},
   "outputs": [],
   "source": [
    "inplace=True - modifies the DataFrame in place, without returning a new DataFrame. Original DataFrame is changed directly."
   ]
  },
  {
   "cell_type": "code",
   "execution_count": null,
   "id": "6ad57406-c6cb-4087-b06b-833dde79aeba",
   "metadata": {},
   "outputs": [],
   "source": [
    "df['data'].str.replace('$', ' ') - Replaces currency symbols"
   ]
  },
  {
   "cell_type": "code",
   "execution_count": null,
   "id": "57b2d9e1-84a6-4402-b06d-43f0c9f89a11",
   "metadata": {},
   "outputs": [],
   "source": [
    "df['firstname_lastname'].str.spit(' ', expand=True) - Splits the strings into separate columns"
   ]
  },
  {
   "cell_type": "markdown",
   "id": "8aeb298f-cbd7-405b-8d15-ce486f642a3f",
   "metadata": {},
   "source": [
    "Reshaping Dataframes"
   ]
  },
  {
   "cell_type": "code",
   "execution_count": null,
   "id": "d7929ff5",
   "metadata": {},
   "outputs": [],
   "source": [
    "pd.concat([df_1, df_2, df_3], axis=\"columns/rows\", join=\"inner/outer\") \n",
    "  - Join several dataframes together by rows(=0) or columns(=1). inner keeps only the common indexes, outer keeps all indexes"
   ]
  },
  {
   "cell_type": "code",
   "execution_count": null,
   "id": "6d3edee7-0a38-402d-85cc-49d2f2b69d0b",
   "metadata": {},
   "outputs": [],
   "source": [
    "pd.melt() - Gathers columns into rows "
   ]
  },
  {
   "cell_type": "code",
   "execution_count": null,
   "id": "0de74e8c-b86a-4cde-a3d5-a2a8bd1a0fac",
   "metadata": {},
   "outputs": [],
   "source": [
    "df.pivot(columns='column name', values='value')"
   ]
  },
  {
   "cell_type": "code",
   "execution_count": null,
   "id": "43415446-b9ba-44ab-b984-47200f64ffdd",
   "metadata": {},
   "outputs": [],
   "source": [
    ".drop() - Drops a column from the dataframe"
   ]
  },
  {
   "cell_type": "code",
   "execution_count": null,
   "id": "6bead872-87a0-48b7-8f11-507f9adbab6d",
   "metadata": {},
   "outputs": [],
   "source": [
    ".drop_duplicates() - Drops duplicate rows"
   ]
  },
  {
   "cell_type": "code",
   "execution_count": null,
   "id": "3931adbb-4c4c-44ba-ac55-29b7be2f17fe",
   "metadata": {},
   "outputs": [],
   "source": [
    ".sample() - Randomly select a number of rows from the dataset"
   ]
  },
  {
   "cell_type": "code",
   "execution_count": null,
   "id": "5a66fca4-9d3d-43d1-a5a2-c30d5dae55dd",
   "metadata": {},
   "outputs": [],
   "source": [
    ".nlargest(n, 'value') - Selects top number of values from dataset"
   ]
  },
  {
   "cell_type": "code",
   "execution_count": null,
   "id": "c1fc7b8f-9451-4aa0-8b69-3d4bb8f7cd79",
   "metadata": {},
   "outputs": [],
   "source": [
    ".nsmallest(n, 'value') - Selects the bottom number of vlaues"
   ]
  },
  {
   "cell_type": "code",
   "execution_count": null,
   "id": "461df628-31cc-473c-9ab2-dd6bed0638a8",
   "metadata": {},
   "outputs": [],
   "source": [
    ".first() - take the first value "
   ]
  },
  {
   "cell_type": "code",
   "execution_count": null,
   "id": "480e7e99-eccb-42af-8f1e-a24218482fdd",
   "metadata": {},
   "outputs": [],
   "source": [
    ".last() - take the last value "
   ]
  },
  {
   "cell_type": "code",
   "execution_count": null,
   "id": "97978244-6674-401f-a233-f448f4a08a77",
   "metadata": {},
   "outputs": [],
   "source": [
    ".groupby('value') - groups data by specific 'value' "
   ]
  },
  {
   "cell_type": "code",
   "execution_count": null,
   "id": "3bc25bac-e516-4b71-ab1b-74bab12407fd",
   "metadata": {},
   "outputs": [],
   "source": [
    "multi_group = df.groupby(['name','data_priceUsd'])['data_priceUsd'].count()"
   ]
  },
  {
   "cell_type": "code",
   "execution_count": null,
   "id": "49e9aa43-b55e-43fc-a885-72caab8bc93e",
   "metadata": {},
   "outputs": [],
   "source": [
    "df = df.groupby([df.index.year, df.index.month, df.index.day]).first() \n",
    "  - group by (year, month, day) take first value of each group "
   ]
  },
  {
   "cell_type": "code",
   "execution_count": null,
   "id": "2b3b37e3-4d2e-4c79-abeb-3eeafc990bc3",
   "metadata": {},
   "outputs": [],
   "source": [
    ".size() - Size of each group"
   ]
  },
  {
   "cell_type": "code",
   "execution_count": null,
   "id": "e9f7d376-7b3a-4388-a4a3-97d2dd1f955a",
   "metadata": {},
   "outputs": [],
   "source": [
    ".agg() - Aggregate group"
   ]
  },
  {
   "cell_type": "code",
   "execution_count": null,
   "id": "1c5cd25b-2022-4d55-a301-ced099ff5aeb",
   "metadata": {
    "tags": []
   },
   "outputs": [],
   "source": [
    "np.random.randint(low, high, size, dtype=int) - randomly generates a number "
   ]
  },
  {
   "cell_type": "markdown",
   "id": "219cf2c9-e4b2-485a-99be-54daa25bf4b8",
   "metadata": {},
   "source": [
    "Cleaning The Data"
   ]
  },
  {
   "cell_type": "code",
   "execution_count": null,
   "id": "71988c47-0e64-4123-a4e0-f8d3725d2be0",
   "metadata": {},
   "outputs": [],
   "source": [
    ".count() - Identify number of rows"
   ]
  },
  {
   "cell_type": "code",
   "execution_count": null,
   "id": "f8184048-b17b-4fe2-9cba-c0cdfc24b084",
   "metadata": {},
   "outputs": [],
   "source": [
    ".isnull() - Checks for null values "
   ]
  },
  {
   "cell_type": "code",
   "execution_count": null,
   "id": "6f69e025-cadb-4913-9425-25888bedf862",
   "metadata": {},
   "outputs": [],
   "source": [
    ".isnull().mean() * 100 - calculates percentage of nulls"
   ]
  },
  {
   "cell_type": "code",
   "execution_count": null,
   "id": "2a61fa38-ba91-464c-9dfc-b07b5e08c4cd",
   "metadata": {},
   "outputs": [],
   "source": [
    ".isnull().sum() - Calculates number of nulls"
   ]
  },
  {
   "cell_type": "code",
   "execution_count": null,
   "id": "4ac44a8e-df34-47af-bcc6-9dcc6bb12d45",
   "metadata": {},
   "outputs": [],
   "source": [
    "df[['column1', 'column2']].fillna('new value') - Fills missing values in specific columns with 'new value' "
   ]
  },
  {
   "cell_type": "code",
   "execution_count": null,
   "id": "40e0ee0a-4ff0-4660-9f3f-837553972d04",
   "metadata": {},
   "outputs": [],
   "source": [
    ".dropna() - drops missing values from dataframe "
   ]
  },
  {
   "cell_type": "code",
   "execution_count": null,
   "id": "64481a63-5a4c-486b-a16f-c67a3fdc67d1",
   "metadata": {},
   "outputs": [],
   "source": [
    ".duplicated() - checks for duplicates in dataframe "
   ]
  },
  {
   "cell_type": "code",
   "execution_count": null,
   "id": "a08708a5-60e6-4d05-85d6-cd914522c211",
   "metadata": {},
   "outputs": [],
   "source": [
    "df['data'].duplicated() - check duplicates for specific field"
   ]
  },
  {
   "cell_type": "code",
   "execution_count": null,
   "id": "32f83476-7be1-4256-90ad-9c061f6b15f6",
   "metadata": {},
   "outputs": [],
   "source": [
    "df['data'].astype('float') - converts data value from object to float "
   ]
  },
  {
   "cell_type": "code",
   "execution_count": null,
   "id": "07d749d7-eb71-432a-96d4-4b2dd8e8005c",
   "metadata": {},
   "outputs": [],
   "source": [
    "filters rows\n",
    "term_df = filtered_df.loc[filtered_df['term'] == '36 months'].copy()\n",
    "- creates a new DataFrame term_df containing only the rows from filtered_df where the value in the term column is '36 months'."
   ]
  },
  {
   "cell_type": "code",
   "execution_count": null,
   "id": "7f52c91d-2aeb-4829-a131-e380abf22939",
   "metadata": {},
   "outputs": [],
   "source": [
    "Modify row values \n",
    "term_df.loc[term_df['term'] == '36 months', 'term'] = '3 Years'\n",
    "- Change row values within the 'term' column from '36 months' to '3 Years'"
   ]
  },
  {
   "cell_type": "code",
   "execution_count": null,
   "id": "409c4e31-fa0e-4046-beaf-7b5d64ee7fea",
   "metadata": {},
   "outputs": [],
   "source": [
    "Change row values\n",
    "term_df.loc[term_df['emp_title'].isnull(), 'emp_title'] = 'Unknown'\n",
    "- Change row values within the 'emp_title' column from NaN to 'Unknown'"
   ]
  },
  {
   "cell_type": "markdown",
   "id": "4e3fdb6d-1cf3-4a31-a08c-2da59f6f0785",
   "metadata": {},
   "source": [
    "Indexing The Data"
   ]
  },
  {
   "cell_type": "code",
   "execution_count": null,
   "id": "49113f3e-fe53-4884-9ab2-46a3504dfc3f",
   "metadata": {},
   "outputs": [],
   "source": [
    "df.iloc(0) - select the first row of dataframe"
   ]
  },
  {
   "cell_type": "code",
   "execution_count": null,
   "id": "5bf50fb3-d4f8-41c6-a9ac-fbe22e6f3204",
   "metadata": {},
   "outputs": [],
   "source": [
    "df.iloc(1) - slelect the second row of dataframe "
   ]
  },
  {
   "cell_type": "code",
   "execution_count": null,
   "id": "8b41a6ec-70c9-4282-81a2-8073a3faed18",
   "metadata": {},
   "outputs": [],
   "source": [
    "df.iloc(0:10) - select first ten rows of dataframe"
   ]
  },
  {
   "cell_type": "code",
   "execution_count": null,
   "id": "2fe573de-7922-40fb-bf1d-0ac969bb7c50",
   "metadata": {},
   "outputs": [],
   "source": [
    "df.iloc(-1) - select last row from of dataframe "
   ]
  },
  {
   "cell_type": "code",
   "execution_count": null,
   "id": "cca6d683-2f84-4ad4-a685-76fd358945e0",
   "metadata": {},
   "outputs": [],
   "source": [
    "df.iloc[:,0].head() - select first column of dataframe"
   ]
  },
  {
   "cell_type": "code",
   "execution_count": null,
   "id": "2ddafd32-abf6-4359-b1f8-3fd0d1ca60c9",
   "metadata": {},
   "outputs": [],
   "source": [
    "df.iloc[:,1].head() - select second column of dataframe with all rows"
   ]
  },
  {
   "cell_type": "code",
   "execution_count": null,
   "id": "5f1dc771-eeb3-46c6-ba7f-16a0c5012263",
   "metadata": {},
   "outputs": [],
   "source": [
    "df.iloc[:,-1].head() - select last column of dataframe with all rows"
   ]
  },
  {
   "cell_type": "code",
   "execution_count": null,
   "id": "bed980ac-cbca-42ac-a159-2f3c15a0128d",
   "metadata": {},
   "outputs": [],
   "source": [
    "df.iloc[:, 0:2].head() - select first two colums with all rows "
   ]
  },
  {
   "cell_type": "code",
   "execution_count": null,
   "id": "30868a37-b64b-4560-89f9-bc35998c8b50",
   "metadata": {},
   "outputs": [],
   "source": [
    "df.iloc[[0,4,7,21], [0,3,5]] - select 1st, 5th, 8th, 22nd row of the 1st, 4th, and 6th columns"
   ]
  },
  {
   "cell_type": "code",
   "execution_count": null,
   "id": "d32697e3-4489-46de-8255-276f29612986",
   "metadata": {},
   "outputs": [],
   "source": [
    "df.iloc[0:5, 2:5] - select first 5 rows of 3rd,4th,5th column"
   ]
  },
  {
   "cell_type": "code",
   "execution_count": null,
   "id": "95377b52-0ae0-4d65-80b4-38e3654942f3",
   "metadata": {},
   "outputs": [],
   "source": [
    "df.iloc[0, df.columns.get_loc('data') = 'value'\n",
    "- Modify the 'data' column value of the first row "
   ]
  },
  {
   "cell_type": "code",
   "execution_count": null,
   "id": "522c1c9e-fe9e-4998-84f6-f858292335b5",
   "metadata": {},
   "outputs": [],
   "source": [
    "df.loc['name'] - select row with index 'name'"
   ]
  },
  {
   "cell_type": "code",
   "execution_count": null,
   "id": "af584ede-8a87-4c24-9c04-61bbf7b83f27",
   "metadata": {},
   "outputs": [],
   "source": [
    "df.loc['name1':'name'].head() - slice the data to ouput range of rows"
   ]
  },
  {
   "cell_type": "code",
   "execution_count": null,
   "id": "3b14c9cb-6f0c-4b18-8dea-a0eaac67171d",
   "metadata": {},
   "outputs": [],
   "source": [
    "df.loc[df['column'] == 'M'].head() - filter rows based on a column value conditional"
   ]
  },
  {
   "cell_type": "code",
   "execution_count": null,
   "id": "db14a42e-e229-4e5d-8cb9-6f53c9c4d59b",
   "metadata": {},
   "outputs": [],
   "source": [
    "df.loc['Yun', 'first_name'] = 'Yuna' - Modify 'column' value of the row with index"
   ]
  },
  {
   "cell_type": "code",
   "execution_count": null,
   "id": "224a1afd-e7f5-4dd5-b91a-280e9b317470",
   "metadata": {},
   "outputs": [],
   "source": [
    "df.at[4,'data'] and df.iat[1,4] - Selects a single value by row and column"
   ]
  },
  {
   "cell_type": "code",
   "execution_count": null,
   "id": "10f7d922-1574-4cc2-89fd-98f76c5e199a",
   "metadata": {},
   "outputs": [],
   "source": [
    "df.shift() -  This method shifts the index of the DataFrame by the specified number of periods (1 in this case)"
   ]
  },
  {
   "cell_type": "markdown",
   "id": "2075a6f5-4173-4a7c-beeb-3cfa20c0e08c",
   "metadata": {},
   "source": [
    "Summarizing the Data"
   ]
  },
  {
   "cell_type": "code",
   "execution_count": null,
   "id": "75c58600-76f1-48c7-aa9f-355822ff88c7",
   "metadata": {},
   "outputs": [],
   "source": [
    ".dtypes()- identify datatypes"
   ]
  },
  {
   "cell_type": "code",
   "execution_count": null,
   "id": "d283cbd1-d062-4bfb-b76e-db2c4d914a88",
   "metadata": {},
   "outputs": [],
   "source": [
    ".describe() - Summary statistics (count, mean, min, max, etc)\n",
    "(include='column','data type','all') - this parameter specifies what to include in the summary statistics"
   ]
  },
  {
   "cell_type": "code",
   "execution_count": null,
   "id": "157b8084-15dc-48ce-9088-6699114c07a0",
   "metadata": {},
   "outputs": [],
   "source": [
    ".shape - Number of columns and rows in dataframe"
   ]
  },
  {
   "cell_type": "code",
   "execution_count": null,
   "id": "bbdede0b-35d5-4de2-921f-23b52c2050c0",
   "metadata": {},
   "outputs": [],
   "source": [
    ".count() - Number of rows "
   ]
  },
  {
   "cell_type": "code",
   "execution_count": null,
   "id": "601aa148-558b-4c27-9c06-0cf4034891dc",
   "metadata": {},
   "outputs": [],
   "source": [
    "df['data'].value_counts() - counts frequency within 'data' columns"
   ]
  },
  {
   "cell_type": "code",
   "execution_count": null,
   "id": "e24acc01-594e-4bae-987a-e859f0194327",
   "metadata": {},
   "outputs": [],
   "source": [
    ".min() - Minimum value in each object"
   ]
  },
  {
   "cell_type": "code",
   "execution_count": null,
   "id": "08a1ed28-f7c1-47ca-b20d-ab8a90eb1d3c",
   "metadata": {},
   "outputs": [],
   "source": [
    ".median() - Median value in each object"
   ]
  },
  {
   "cell_type": "code",
   "execution_count": null,
   "id": "d35386b8-5441-4d57-a602-aa0ea5cd92f1",
   "metadata": {},
   "outputs": [],
   "source": [
    ".max() - Maximum value in each object"
   ]
  },
  {
   "cell_type": "code",
   "execution_count": null,
   "id": "ce64258c-ed8f-4c4c-9c05-8770bf73c14e",
   "metadata": {},
   "outputs": [],
   "source": [
    ".mean() - Calculates the average of each object"
   ]
  },
  {
   "cell_type": "code",
   "execution_count": null,
   "id": "4b6b0a7f-079e-4712-b7c3-14a4c2cbfa8f",
   "metadata": {},
   "outputs": [],
   "source": [
    ".sum() - Calculates the sum of each object"
   ]
  },
  {
   "cell_type": "code",
   "execution_count": null,
   "id": "8fed055e-22c5-4bb2-87e3-6ffbf117bce5",
   "metadata": {},
   "outputs": [],
   "source": [
    ".unique() - all unique values for a given object"
   ]
  },
  {
   "cell_type": "code",
   "execution_count": null,
   "id": "bae5a7d2-e6df-4aa2-a13c-f92e8dfe94c3",
   "metadata": {},
   "outputs": [],
   "source": [
    ".nunique() - Number of distinct values in a column"
   ]
  },
  {
   "cell_type": "code",
   "execution_count": null,
   "id": "e00baab2-4839-493e-a74d-3b584af75984",
   "metadata": {},
   "outputs": [],
   "source": [
    ".cumprod() - Cumulative product"
   ]
  },
  {
   "cell_type": "code",
   "execution_count": null,
   "id": "769ecfb7-b6f4-4582-8ef0-b27c68361494",
   "metadata": {},
   "outputs": [],
   "source": [
    ".cummin() - Cumulative minimum"
   ]
  },
  {
   "cell_type": "code",
   "execution_count": null,
   "id": "ee7221b4-5969-41c0-a1cf-4d7969838bd2",
   "metadata": {},
   "outputs": [],
   "source": [
    ".cummax() - Cumulative maximum"
   ]
  },
  {
   "cell_type": "code",
   "execution_count": null,
   "id": "2ab03f97-e2bc-45d4-929a-6380126b3d13",
   "metadata": {},
   "outputs": [],
   "source": [
    ".cumsum() - Cumulative sum"
   ]
  },
  {
   "cell_type": "code",
   "execution_count": null,
   "id": "4c47ee34-f24a-4fe7-b824-6ceb06196032",
   "metadata": {},
   "outputs": [],
   "source": [
    "cumulative_returns = (1 + daily_returns).cumprod()"
   ]
  },
  {
   "cell_type": "code",
   "execution_count": null,
   "id": "95ba825c-1689-4891-b0eb-103a9dcc0f55",
   "metadata": {},
   "outputs": [],
   "source": [
    "np.sqrt() Calculates the square root "
   ]
  },
  {
   "cell_type": "code",
   "execution_count": null,
   "id": "442c115f-5565-4eeb-ac07-0a57cbc42b28",
   "metadata": {},
   "outputs": [],
   "source": [
    "df.query('Length > 7') - Allows boolean expression for filtering rows "
   ]
  },
  {
   "cell_type": "code",
   "execution_count": null,
   "id": "118b67c8-14ec-480b-abca-8900f3836d17",
   "metadata": {},
   "outputs": [],
   "source": [
    "df.query('Length > 7 and Width < 8') - \"  \""
   ]
  },
  {
   "cell_type": "code",
   "execution_count": null,
   "id": "746e3e0d-a394-4464-b7fd-aa3e66e669b2",
   "metadata": {},
   "outputs": [],
   "source": [
    "df.query('Name.str.startswith(\"abc\")',engine=\"python\") - \"  \""
   ]
  },
  {
   "cell_type": "code",
   "execution_count": null,
   "id": "4b571312",
   "metadata": {},
   "outputs": [],
   "source": [
    ".pct_change() - Percent change"
   ]
  },
  {
   "cell_type": "code",
   "execution_count": null,
   "id": "046c0c49",
   "metadata": {},
   "outputs": [],
   "source": [
    ".corr('Pearson, Kendal, or \"  \"') - Correlation  "
   ]
  },
  {
   "cell_type": "code",
   "execution_count": null,
   "id": "9bce43da-d458-4d64-b514-cf5417fbde92",
   "metadata": {},
   "outputs": [],
   "source": [
    ".std() - Standard deviation "
   ]
  },
  {
   "cell_type": "code",
   "execution_count": null,
   "id": "56da829e-9f19-48c7-beba-96ab78b69a37",
   "metadata": {},
   "outputs": [],
   "source": [
    "pd.cut(df['column'], bins=bins, labels=bin_names, include_lowest=True)\n",
    "- slices the data from into your predefines bins"
   ]
  },
  {
   "cell_type": "code",
   "execution_count": null,
   "id": "11ba65b1-84d3-4458-a691-9c672fa0e3b4",
   "metadata": {},
   "outputs": [],
   "source": [
    "..rolling(n) \n",
    "- Specifies a rolling timeframe (7, ,30, 90 days) or 'window' that summary functions can be applied to (mean, max, etc)"
   ]
  },
  {
   "cell_type": "code",
   "execution_count": null,
   "id": "7331fd23-987b-410a-8b35-223b2b7a56b0",
   "metadata": {},
   "outputs": [],
   "source": [
    "df.expanding() - Return an Expanding object allowing summary functions to be applied cumulatively."
   ]
  },
  {
   "cell_type": "code",
   "execution_count": null,
   "id": "ef3ea781-3859-4926-9bfa-39608c085b58",
   "metadata": {},
   "outputs": [],
   "source": [
    "Calculate sharpe ratios\n",
    "=((all_portfolios_returns.mean()-all_portfolios_returns['rf_rate'].mean())*252)/(all_portfolios_returns.std()*np.sqrt(252))"
   ]
  },
  {
   "cell_type": "code",
   "execution_count": null,
   "id": "3b1fd51d-7df8-494f-8ea7-9258175afa6d",
   "metadata": {},
   "outputs": [],
   "source": [
    ".cov() - covriance \n",
    "covariance = daily_returns['stock'].cov(daily_returns['market'])\n",
    " - Measures the extent to which two variables change in relation to eachother \n",
    "    - positive = variables tend to move in the same direction\n",
    "    - negative = variables tend to move in oppostie directions \n",
    "    - zero = no linear relatonship"
   ]
  },
  {
   "cell_type": "code",
   "execution_count": null,
   "id": "585fde55-42da-486e-987e-46f2ccf5cc31",
   "metadata": {},
   "outputs": [],
   "source": [
    ".var() - Measures the spread or dispersion of data points\n",
    "-Variance quantifies how much the numbers in a data set deviate from the mean (average) of the data.\n",
    "    - high variance indicates data points are spread out widely around the mean, high level of variability\n",
    "    - low variance indicates data points are close to the mean, low variability\n",
    "    "
   ]
  },
  {
   "cell_type": "code",
   "execution_count": null,
   "id": "cd897a01-9453-4aaa-9cf8-961f368aa0ff",
   "metadata": {},
   "outputs": [],
   "source": [
    "beat = covariance/variance  - measure of volatility relative to the market "
   ]
  },
  {
   "cell_type": "markdown",
   "id": "ed390aa6-0f47-440e-af9d-5a8df56b5f0a",
   "metadata": {
    "tags": []
   },
   "source": [
    "Visualizing The Data"
   ]
  },
  {
   "cell_type": "code",
   "execution_count": null,
   "id": "159c4b59",
   "metadata": {},
   "outputs": [],
   "source": [
    ".plot()"
   ]
  },
  {
   "cell_type": "code",
   "execution_count": null,
   "id": "2e535a6a",
   "metadata": {},
   "outputs": [],
   "source": [
    ".plot(figsize=(25,10)"
   ]
  },
  {
   "cell_type": "code",
   "execution_count": null,
   "id": "e31adea2-cd98-43eb-ae68-0b714d668ac0",
   "metadata": {},
   "outputs": [],
   "source": [
    ".plot(kind='bar') - generates a bar chart "
   ]
  },
  {
   "cell_type": "code",
   "execution_count": null,
   "id": "ab78e95d-4f98-416b-a22e-6a37674977dc",
   "metadata": {},
   "outputs": [],
   "source": [
    ".plot.box() - generates a box plot"
   ]
  },
  {
   "cell_type": "code",
   "execution_count": null,
   "id": "a359d313",
   "metadata": {},
   "outputs": [],
   "source": [
    ".plot(kind='scatter', x='value_1', y='value_2') - generates a scatterplot "
   ]
  },
  {
   "cell_type": "code",
   "execution_count": null,
   "id": "85f555b5-e045-4cc3-9724-b664d43d0da2",
   "metadata": {},
   "outputs": [],
   "source": [
    ".plot.hist(stacked=True, bins=100) - generates a histogram"
   ]
  },
  {
   "cell_type": "code",
   "execution_count": null,
   "id": "3f1706b1-664d-44d9-8647-03bdb02f1372",
   "metadata": {},
   "outputs": [],
   "source": [
    "grouped_data = df.groupby('name')['value'].plot(legend=True) - plots grouped data "
   ]
  },
  {
   "cell_type": "code",
   "execution_count": null,
   "id": "3ec8f2bd-37e4-4400-bc94-3f0824913cf6",
   "metadata": {},
   "outputs": [],
   "source": [
    "ax = df.plot() - Set figure \n",
    "df.rolling(window=180).mean().plot(ax=ax) - plots rolling mean on the same figure\n",
    "ax.legend([\"stock\", \"stock 180 Day Mean\"]);"
   ]
  },
  {
   "cell_type": "code",
   "execution_count": null,
   "id": "3868e0f4",
   "metadata": {},
   "outputs": [],
   "source": [
    "sns.heatmap(df.corr(), annnot=True, vmin=0, vmax=1) - generates a heatmap using the Seaborn library"
   ]
  },
  {
   "cell_type": "code",
   "execution_count": null,
   "id": "052609bc-15f4-4c74-8df1-f1e3fab3019a",
   "metadata": {},
   "outputs": [],
   "source": [
    "sns.lmplot(x='column_1', y='column_2', data=daily_returns, aspect=1.5, fit_reg=True)\n",
    "   - generates a scatterplot with a regression line using the Seaborn library "
   ]
  },
  {
   "cell_type": "code",
   "execution_count": null,
   "id": "eff1ccab-07a5-4445-a45d-516aeecc5a66",
   "metadata": {},
   "outputs": [],
   "source": [
    ".legend() - specify the legend of the figure "
   ]
  },
  {
   "cell_type": "code",
   "execution_count": null,
   "id": "273db8cb-b1c8-49c8-bd00-d9651fb749f0",
   "metadata": {},
   "outputs": [],
   "source": [
    ".pivot_table(values=\"data\", index=\"object\", columns=\"name\") - creates a pivot table with the specified variables "
   ]
  },
  {
   "cell_type": "code",
   "execution_count": null,
   "id": "a49a109b-8c39-4c2b-95ec-2c8452e417db",
   "metadata": {},
   "outputs": [],
   "source": [
    "weights = [0.5, 0.5]\n",
    "portfolio_returns = all_returns.dot(weights)\n",
    "  - Calculates portfolio returns with specified weights of each stock"
   ]
  },
  {
   "cell_type": "code",
   "execution_count": null,
   "id": "0551e62c-b8be-4473-bd2e-b6e8ba26ae8c",
   "metadata": {},
   "outputs": [],
   "source": [
    "annualized_volatility = all_returns.std() * np.sqrt(252)"
   ]
  },
  {
   "cell_type": "code",
   "execution_count": null,
   "id": "3710bd7d-8507-40ed-aa6a-e529a9298fa6",
   "metadata": {},
   "outputs": [],
   "source": [
    "# plot a chart showing returns for a specified weighted portfolio\n",
    "initial_investment = 10000\n",
    "weights = [0.8, 0.2]\n",
    "portfolio_returns = all_returns.dot(weights)\n",
    "cumulative_returns = (1 + portfolio_returns).cumprod()\n",
    "(initial_investment * cumulative_returns).plot()"
   ]
  },
  {
   "cell_type": "markdown",
   "id": "d93ce598-710f-4232-a503-bc07e310eb91",
   "metadata": {},
   "source": [
    "PYTHON"
   ]
  },
  {
   "cell_type": "code",
   "execution_count": null,
   "id": "38fab08a-6abb-4607-b343-f2af8c493deb",
   "metadata": {},
   "outputs": [],
   "source": [
    "Data Types \n",
    "\n",
    "- Integer - int()\n",
    "- floating point numbers - float()\n",
    "- strings (text) - str()"
   ]
  },
  {
   "cell_type": "code",
   "execution_count": null,
   "id": "7f70e498-e5c7-4c98-9d5a-fe8f2cc7bbf1",
   "metadata": {},
   "outputs": [],
   "source": [
    "Comparison Operators:\n",
    "==\tEqual to\n",
    "!=\tNot equal to\n",
    "<\tLess than\n",
    ">\tGreater Than\n",
    "<=\tLess than or Equal to\n",
    ">=\tGreater than or Equal to"
   ]
  },
  {
   "cell_type": "code",
   "execution_count": null,
   "id": "03c07449-7f05-42f7-8e47-c1ba0156f765",
   "metadata": {},
   "outputs": [],
   "source": [
    "Boolean Operators \n",
    "and \n",
    "or\n",
    "not"
   ]
  },
  {
   "cell_type": "code",
   "execution_count": null,
   "id": "1fef6979-88f9-4b4f-ac05-4de328d9e887",
   "metadata": {},
   "outputs": [],
   "source": [
    "The print() Function\n",
    "\n",
    "The print() function writes the value of the argument(s) it is given. \n",
    "[…] it handles multiple arguments, floating point-quantities, and strings. \n",
    "Strings are printed without quotes, and a space is inserted between items, so you can format things nicely:\n",
    "\n",
    "The end keyword:\n",
    "#The keyword argument end can be used to avoid the newline after the output, or end the output with a different string:\n",
    "\n",
    "The sep keyword:\n",
    "#The keyword sep specify how to separate the objects, if there is more than one:"
   ]
  },
  {
   "cell_type": "code",
   "execution_count": null,
   "id": "1f98c224-08ee-4be7-9e2e-7750050c8ec6",
   "metadata": {},
   "outputs": [],
   "source": []
  },
  {
   "cell_type": "code",
   "execution_count": null,
   "id": "4eeb5ceb-170b-4c13-b106-57f477dc9ab9",
   "metadata": {},
   "outputs": [],
   "source": [
    "The input() Function:\n",
    "    \n",
    "- This function takes the input from the user and converts it into a string:\n",
    "\n",
    "- input() can also set a default message without using print():"
   ]
  },
  {
   "cell_type": "code",
   "execution_count": null,
   "id": "f41dea9b-f7df-4ecd-a2db-2d039d869774",
   "metadata": {},
   "outputs": [],
   "source": []
  },
  {
   "cell_type": "code",
   "execution_count": null,
   "id": "89ab0199-d12f-4257-9b15-dfaa21e0b67f",
   "metadata": {},
   "outputs": [],
   "source": [
    "The len() Function:\n",
    "    \n",
    "- Evaluates to the integer value of the number of characters in a string, list, dictionary, etc.:"
   ]
  },
  {
   "cell_type": "code",
   "execution_count": null,
   "id": "d1be74ff-ab67-44c6-afb8-11889741850e",
   "metadata": {},
   "outputs": [],
   "source": []
  },
  {
   "cell_type": "code",
   "execution_count": null,
   "id": "0847834c-ab9f-43e9-8195-716bd1a2d4d7",
   "metadata": {},
   "outputs": [],
   "source": [
    "The str(), int(), and float() Functions\n",
    "\n",
    "- These functions allow you to change the type of variable. For example, you can transform from an integer or float to a string:"
   ]
  },
  {
   "cell_type": "code",
   "execution_count": null,
   "id": "02e608c9-d8d9-40bb-b1b5-47d3c8259227",
   "metadata": {},
   "outputs": [],
   "source": []
  },
  {
   "cell_type": "code",
   "execution_count": null,
   "id": "62944626-dea4-46df-ad00-7d1e58585c12",
   "metadata": {},
   "outputs": [],
   "source": [
    "if Statements\n",
    "\n",
    "if, else, elif\n",
    "\n",
    "-The if statement evaluates an expression, and if that expression is True, it then executes the following indented code:\n",
    "\n",
    "-The else statement executes only if the evaluation of the if and all the elif expressions are False:\n",
    "\n",
    "-Only after the if statement expression is False, the elif statement is evaluated and executed:"
   ]
  },
  {
   "cell_type": "code",
   "execution_count": null,
   "id": "8292ea1d-0ecd-4a6f-8ee6-e81ced23ca66",
   "metadata": {},
   "outputs": [],
   "source": []
  },
  {
   "cell_type": "code",
   "execution_count": null,
   "id": "545e78cd-0e27-4810-b2a3-b86e7b7c7ac4",
   "metadata": {},
   "outputs": [],
   "source": [
    "'while' Loop Statements \n",
    "\n",
    "- The while statement is used for repeated execution as long as an expression is True:\n",
    "    \n",
    "- If the execution reaches a break statement, it immediately exits the while loop’s clause:\n",
    "\n",
    "- When the program execution reaches a continue statement, the program execution immediately jumps back to the start of the loop.\n",
    "\n",
    "- "
   ]
  },
  {
   "cell_type": "code",
   "execution_count": null,
   "id": "7c262f64-e912-46ff-9066-0cb8dce32117",
   "metadata": {},
   "outputs": [],
   "source": []
  },
  {
   "cell_type": "code",
   "execution_count": null,
   "id": "005642f0-ce22-4c3e-b4cb-7c34a73013ce",
   "metadata": {},
   "outputs": [],
   "source": [
    "'for' Loop Statements \n",
    "\n",
    "- The for loop iterates over a list, tuple, dictionary, set or string:\n",
    "    \n",
    "- The range() function returns a sequence of numbers. It starts from 0, increments by 1, and stops before a specified number:\n",
    "\n",
    "- The range() function returns a sequence of numbers. It starts from 0, increments by 1, and stops before a specified number:\n",
    "\n",
    "- The range() function can also modify its 3 defaults arguments. range(0,1,2)\n",
    "#The first two are the start and stop values \n",
    "#The third is the step argument.\n",
    "#The step is the amount that the variable is increased by after each iteration.\n"
   ]
  },
  {
   "cell_type": "code",
   "execution_count": null,
   "id": "82d8ecb8-8ba0-4cb8-8ce8-115eab5bae87",
   "metadata": {},
   "outputs": [],
   "source": []
  },
  {
   "cell_type": "code",
   "execution_count": null,
   "id": "be44115d-e923-4b07-9851-1db572f5ab3d",
   "metadata": {},
   "outputs": [],
   "source": [
    "Function Arguments\n",
    "# A function is a block of organized code that is used to perform a single task. They provide better modularity for your application and reuse-ability.\n",
    "\n",
    "- A function can take arguments and return values:\n",
    "\n",
    "- To improve code readability, we should be as explicit as possible. We can achieve this in our functions by using Keyword Arguments:\n",
    "    - >>> # with keyword arguments\n",
    "    >>> say_hi(name='Anna', greeting='Hi')\n",
    "    # Hi Anna"
   ]
  },
  {
   "cell_type": "code",
   "execution_count": null,
   "id": "63f4c268-4540-41a5-ad2b-b9343d3d736e",
   "metadata": {},
   "outputs": [],
   "source": [
    "When creating a function using the def statement, you can specify what the return value should be with a return statement. \n",
    "\n",
    "A return statement consists of the following:\n",
    "- The return keyword.\n",
    "- The value or expression that the function should return.\n",
    "\n",
    "In Python, a lambda function is a single-line, anonymous function, which can have any number of arguments, but it can only have one expression.\n",
    ">>> add = lambda x, y: x + y\n",
    ">>> add(5, 3)\n",
    "# 8"
   ]
  },
  {
   "cell_type": "markdown",
   "id": "d7fd72fd-cc40-4474-bbb7-c661a95a5791",
   "metadata": {},
   "source": [
    "LISTS"
   ]
  },
  {
   "cell_type": "code",
   "execution_count": null,
   "id": "10ed2bd2-7d62-459f-81a6-e54980618360",
   "metadata": {},
   "outputs": [],
   "source": [
    ".index()\n",
    "The index method allows you to find the index of a value by passing its name: data.\n",
    ">> furniture = ['table', 'chair', 'rack', 'shelf']\n",
    ">>> furniture.index('chair')\n",
    "# 1"
   ]
  },
  {
   "cell_type": "code",
   "execution_count": null,
   "id": "b4850b64-83b3-4c88-9c05-d56d7846a88e",
   "metadata": {},
   "outputs": [],
   "source": [
    ".append()\n",
    "adds an element to the end of a list:\n",
    ">>> furniture = ['table', 'chair', 'rack', 'shelf']\n",
    ">>> furniture.append('bed')\n",
    ">>> furniture\n",
    "# ['table', 'chair', 'rack', 'shelf', 'bed']"
   ]
  },
  {
   "cell_type": "code",
   "execution_count": null,
   "id": "c43a8986-6791-4305-9109-45df5c3c3bef",
   "metadata": {},
   "outputs": [],
   "source": [
    "insert()\n",
    "insert adds an element to a list at a given position:\n",
    ">>> furniture = ['table', 'chair', 'rack', 'shelf']\n",
    ">>> furniture.insert(1, 'bed')\n",
    ">>> furniture\n",
    "# ['table', 'bed', 'chair', 'rack', 'shelf']"
   ]
  },
  {
   "cell_type": "code",
   "execution_count": null,
   "id": "5c439e46-abfd-4eda-952d-ffc287d06985",
   "metadata": {},
   "outputs": [],
   "source": [
    "del()\n",
    "del removes an item using the index:\n",
    "\n",
    ">>> furniture = ['table', 'chair', 'rack', 'shelf']\n",
    ">>> del furniture[2]\n",
    ">>> furniture\n",
    "# ['table', 'chair', 'shelf']\n",
    "\n",
    ">>> del furniture[2]\n",
    ">>> furniture\n",
    "# ['table', 'chair']"
   ]
  },
  {
   "cell_type": "code",
   "execution_count": null,
   "id": "98df3bdd-2293-4b27-a37e-0fcb3f4c5f80",
   "metadata": {},
   "outputs": [],
   "source": [
    "remove()\n",
    "remove removes an item with using actual value of it:\n",
    "\n",
    ">>> furniture = ['table', 'chair', 'rack', 'shelf']\n",
    ">>> furniture.remove('chair')\n",
    ">>> furniture\n",
    "# ['table', 'rack', 'shelf']"
   ]
  },
  {
   "cell_type": "code",
   "execution_count": null,
   "id": "4ca81e4d-3812-46d5-b57d-6ce9c4ad52d6",
   "metadata": {},
   "outputs": [],
   "source": [
    "pop()\n",
    "By default, pop will remove and return the last item of the list. You can also pass the index of the element as an optional parameter:\n",
    "\n",
    ">>> animals = ['cat', 'bat', 'rat', 'elephant']\n",
    "\n",
    ">>> animals.pop()\n",
    "'elephant'\n",
    "\n",
    ">>> animals\n",
    "['cat', 'bat', 'rat']\n",
    "\n",
    ">>> animals.pop(0)\n",
    "'cat'\n",
    "\n",
    ">>> animals\n",
    "['bat', 'rat']\n"
   ]
  },
  {
   "cell_type": "markdown",
   "id": "d1e4323f-6c76-4e4b-b6c6-0a5f1f76d63b",
   "metadata": {},
   "source": [
    "TUPLES"
   ]
  },
  {
   "cell_type": "markdown",
   "id": "c4042039-dc9a-4d66-8c6e-025f5b4625bd",
   "metadata": {},
   "source": [
    "Tuples vs Lists:\n",
    "The key difference between tuples and lists is that, while tuples are immutable objects, lists are mutable. This means that tuples cannot be changed while the lists can be modified. Tuples are more memory efficient than the lists."
   ]
  },
  {
   "cell_type": "markdown",
   "id": "9bb11cbb-805d-4fe7-a9e7-766524b6d712",
   "metadata": {},
   "source": [
    "DICTIONARIES"
   ]
  },
  {
   "cell_type": "markdown",
   "id": "cde01238-f0cc-41b8-838f-47e47595d557",
   "metadata": {},
   "source": [
    "The main operations on a dictionary are storing a value with some key and extracting the value given the key. It is also possible to delete a key:value pair with del."
   ]
  },
  {
   "cell_type": "markdown",
   "id": "868d3735-3f9f-4b12-bd38-ac7e53ac5507",
   "metadata": {},
   "source": [
    "Set key, value using subscript operator []\n",
    ">>> my_cat = {\n",
    "...  'size': 'fat',\n",
    "...  'color': 'gray',\n",
    "...  'disposition': 'loud',\n",
    "... }\n",
    ">>> my_cat['age_years'] = 2\n",
    ">>> print(my_cat)"
   ]
  },
  {
   "cell_type": "code",
   "execution_count": null,
   "id": "7ad2ddc2-274e-4ecf-a7fe-7f5681456767",
   "metadata": {},
   "outputs": [],
   "source": [
    "values()\n",
    "The values() method gets the values of the dictionary:\n",
    ">>> pet = {'color': 'red', 'age': 42}\n",
    ">>> for value in pet.values():\n",
    "...     print(value)\n",
    "...\n",
    "# red\n",
    "# 42"
   ]
  },
  {
   "cell_type": "code",
   "execution_count": null,
   "id": "29326a7a-c502-4902-9573-17ff17332b9b",
   "metadata": {},
   "outputs": [],
   "source": [
    "keys()\n",
    "The keys() method gets the keys of the dictionary:\n",
    "\n",
    ">>> pet = {'color': 'red', 'age': 42}\n",
    ">>> for key in pet.keys():\n",
    "...     print(key)\n",
    "...\n",
    "# color\n",
    "# age"
   ]
  },
  {
   "cell_type": "code",
   "execution_count": null,
   "id": "8208acf2-3d1b-4d71-8af1-11d220622d61",
   "metadata": {},
   "outputs": [],
   "source": [
    "items()\n",
    "The items() method gets the items of a dictionary and returns them as a Tuple:\n",
    "\n",
    ">>> pet = {'color': 'red', 'age': 42}\n",
    ">>> for item in pet.items():\n",
    "...     print(item)\n",
    "...\n",
    "# ('color', 'red')\n",
    "# ('age', 42)"
   ]
  },
  {
   "cell_type": "code",
   "execution_count": null,
   "id": "b2023e4a-9dc9-4a59-bd8d-a72c78f78546",
   "metadata": {},
   "outputs": [],
   "source": [
    "Using the keys(), values(), and items() methods, a for loop can iterate over the keys, values, or key-value pairs in a dictionary, respectively.\n",
    "\n",
    ">>> pet = {'color': 'red', 'age': 42}\n",
    ">>> for key, value in pet.items():\n",
    "...     print(f'Key: {key} Value: {value}')\n",
    "...\n",
    "# Key: color Value: red\n",
    "# Key: age Value: 42"
   ]
  },
  {
   "cell_type": "code",
   "execution_count": null,
   "id": "cf9baa7f-8302-412a-b1b6-b4834c1402de",
   "metadata": {},
   "outputs": [],
   "source": [
    "get()\n",
    "The get() method returns the value of an item with the given key. If the key doesn’t exist, it returns None:"
   ]
  },
  {
   "cell_type": "code",
   "execution_count": null,
   "id": "3bbc4ad3-c1c5-47b8-aaf0-3e95298a0fd3",
   "metadata": {},
   "outputs": [],
   "source": [
    "pop()\n",
    "The pop() method removes and returns an item based on a given key."
   ]
  },
  {
   "cell_type": "code",
   "execution_count": null,
   "id": "d5123b38-e204-4664-880e-ca07b524433b",
   "metadata": {},
   "outputs": [],
   "source": [
    "popitem()\n",
    "The popitem() method removes the last item in a dictionary and returns it."
   ]
  },
  {
   "cell_type": "code",
   "execution_count": null,
   "id": "da14e214-752b-4434-8ecd-272d04de289d",
   "metadata": {},
   "outputs": [],
   "source": [
    "del()\n",
    "The del() method removes an item based on a given key."
   ]
  },
  {
   "cell_type": "code",
   "execution_count": null,
   "id": "a1914c3e-9056-4d03-b82e-73616f2a6816",
   "metadata": {},
   "outputs": [],
   "source": [
    "clear()\n",
    "Theclear() method removes all the items in a dictionary."
   ]
  },
  {
   "cell_type": "markdown",
   "id": "e02ca7cf-5623-4757-bc92-e64365decd34",
   "metadata": {},
   "source": [
    "Manipulating Strings"
   ]
  },
  {
   "cell_type": "code",
   "execution_count": null,
   "id": "2c86d8ea-bef7-4bad-a6ce-ad91ab1f4ca7",
   "metadata": {},
   "outputs": [],
   "source": [
    "Escape characters\n",
    "An escape character is created by typing a backslash \\ followed by the character you want to insert.\n",
    "\n",
    "\\'\t   Single quote\n",
    "\\\"\t   Double quote\n",
    "\\t\t   Tab\n",
    "\\n\t   Newline (line break)\n",
    "\\\\\t   Backslash\n",
    "\\b\t   Backspace\n",
    "\\ooo   Octal value\n",
    "\\r\t   Carriage Return"
   ]
  },
  {
   "cell_type": "markdown",
   "id": "4e7b6181-5c61-4e8d-bdd9-d185d277d6fb",
   "metadata": {},
   "source": [
    "Escape Characters"
   ]
  },
  {
   "cell_type": "code",
   "execution_count": null,
   "id": "dacc2916-821d-40e7-acb8-0928173bc2b1",
   "metadata": {},
   "outputs": [],
   "source": [
    "3.1415926  \t{:.2f}\t   3.14\tFormat float 2 decimal places\n",
    "3.1415926\t{:+.2f}    +3.14\tFormat float 2 decimal places with sign\n",
    "-1\t         {:+.2f}   -1.00\t    Format float 2 decimal places with sign\n",
    "2.71828\t     {:.0f}\t    3\t        Format float with no decimal places\n",
    "4\t         {:0>2d}    04\t            Pad number with zeros (left padding, width 2)\n",
    "4         \t{:x<4d}     4xxx\t        Pad number with x’s (right padding, width 4)\n",
    "10         \t{:x<4d}\t     10xx\t        Pad number with x’s (right padding, width 4)\n",
    "1000000   \t{:,}\t     1,000,000\tNumber format with comma separator\n",
    "0.35\t    {:.2%}\t     35.00%\t    Format percentage\n",
    "1000000000\t{:.2e}\t   1.00e+09\tExponent notation\n",
    "11\t        {:11d}\t    11\t            Right-aligned (default, width 10)\n",
    "11\t        {:<11d}     11\t            Left-aligned (width 10)\n",
    "11       \t{:^11d}\t     11\t            Center aligned (width 10)"
   ]
  },
  {
   "cell_type": "markdown",
   "id": "76e82164-f05b-47a0-b348-68762a287a03",
   "metadata": {},
   "source": [
    "PYTHON BUILT-IN FUNCTIONS"
   ]
  },
  {
   "cell_type": "code",
   "execution_count": null,
   "id": "b5d0c18a-80d1-4cfd-b4d1-f8e4ffdd8e58",
   "metadata": {},
   "outputs": [],
   "source": [
    "import()\t\n",
    "This function is invoked by the import statement."
   ]
  },
  {
   "cell_type": "code",
   "execution_count": null,
   "id": "13a84e19-845e-40a0-a104-524ecccf0f73",
   "metadata": {},
   "outputs": [],
   "source": [
    "abs()\t\n",
    "Return the absolute value of a number."
   ]
  },
  {
   "cell_type": "code",
   "execution_count": null,
   "id": "93292939-7541-4d54-b780-1e9694e57873",
   "metadata": {},
   "outputs": [],
   "source": [
    "aiter()\t\n",
    "Return an asynchronous iterator for an asynchronous iterable."
   ]
  },
  {
   "cell_type": "code",
   "execution_count": null,
   "id": "1537939d-eaeb-4067-b435-2afe7f84840e",
   "metadata": {},
   "outputs": [],
   "source": [
    "all()\t\n",
    "Return True if all elements of the iterable are true."
   ]
  },
  {
   "cell_type": "code",
   "execution_count": null,
   "id": "b687f58d-be1b-422c-b4fd-616df4684ba7",
   "metadata": {},
   "outputs": [],
   "source": [
    "any()\t\n",
    "Return True if any element of the iterable is true."
   ]
  },
  {
   "cell_type": "code",
   "execution_count": null,
   "id": "8ee0f961-50f2-4503-9b27-fae895cfad18",
   "metadata": {},
   "outputs": [],
   "source": [
    "ascii()\t\n",
    "Return a string with a printable representation of an object."
   ]
  },
  {
   "cell_type": "code",
   "execution_count": null,
   "id": "a3064125-1dab-4074-87c4-0e5c83555adb",
   "metadata": {},
   "outputs": [],
   "source": [
    "bin()\t\n",
    "Convert an integer number to a binary string."
   ]
  },
  {
   "cell_type": "code",
   "execution_count": null,
   "id": "450cfcd2-ba38-4506-b56b-ccf85dc5976e",
   "metadata": {},
   "outputs": [],
   "source": [
    "bool()\t\n",
    "Return a Boolean value."
   ]
  },
  {
   "cell_type": "code",
   "execution_count": null,
   "id": "137979aa-cd4f-4d41-a9c2-8d8c87eaa35b",
   "metadata": {},
   "outputs": [],
   "source": [
    "breakpoint()\t\n",
    "Drops you into the debugger at the call site."
   ]
  },
  {
   "cell_type": "code",
   "execution_count": null,
   "id": "2939d786-5a3a-41e7-9175-00fb6eaf17f6",
   "metadata": {},
   "outputs": [],
   "source": [
    "bytearray()\n",
    "Return a new array of bytes."
   ]
  },
  {
   "cell_type": "code",
   "execution_count": null,
   "id": "0b568d8c-b101-4b87-943b-3817f7880cf2",
   "metadata": {},
   "outputs": [],
   "source": [
    "bytes()\t\n",
    "Return a new “bytes” object."
   ]
  },
  {
   "cell_type": "code",
   "execution_count": null,
   "id": "f69f31c4-947e-4805-87bb-56adec7f89f8",
   "metadata": {},
   "outputs": [],
   "source": [
    "callable()\t\n",
    "Return True if the object argument is callable, False if not."
   ]
  },
  {
   "cell_type": "code",
   "execution_count": null,
   "id": "a9ac3ab1-c42b-46f7-a275-d6390f93e7a3",
   "metadata": {},
   "outputs": [],
   "source": [
    "chr()\t\n",
    "Return the string representing a character."
   ]
  },
  {
   "cell_type": "code",
   "execution_count": null,
   "id": "96cf503e-f8c4-4ba0-9241-49051e57147f",
   "metadata": {},
   "outputs": [],
   "source": [
    "classmethod()\t\n",
    "Transform a method into a class method."
   ]
  },
  {
   "cell_type": "code",
   "execution_count": null,
   "id": "08a027bc-aa8c-47e7-bfc2-3e4290a0c834",
   "metadata": {},
   "outputs": [],
   "source": [
    "compile()\t\n",
    "Compile the source into a code or AST object."
   ]
  },
  {
   "cell_type": "code",
   "execution_count": null,
   "id": "657e75e5-6522-42af-aa0e-1a8f3535d336",
   "metadata": {},
   "outputs": [],
   "source": [
    "complex()\t\n",
    "Return a complex number with the value real + imag*1j."
   ]
  },
  {
   "cell_type": "code",
   "execution_count": null,
   "id": "1ffa205e-45a4-40af-95ae-96256ae181e2",
   "metadata": {},
   "outputs": [],
   "source": [
    "delattr()\t\n",
    "Deletes the named attribute, provided the object allows it."
   ]
  },
  {
   "cell_type": "code",
   "execution_count": null,
   "id": "707e1bae-eb3c-47b3-8e6f-13e38f1c6f1b",
   "metadata": {},
   "outputs": [],
   "source": [
    "dict()\t\n",
    "Create a new dictionary."
   ]
  },
  {
   "cell_type": "code",
   "execution_count": null,
   "id": "21d38209-2c9b-45cf-8796-4c68b51cc56a",
   "metadata": {},
   "outputs": [],
   "source": [
    "dir()\t\n",
    "Return the list of names in the current local scope."
   ]
  },
  {
   "cell_type": "code",
   "execution_count": null,
   "id": "e5f1a3d7-2d2b-4c49-9796-5943e31270de",
   "metadata": {},
   "outputs": [],
   "source": [
    "divmod()\t\n",
    "Return a pair of numbers consisting of their quotient and remainder."
   ]
  },
  {
   "cell_type": "code",
   "execution_count": null,
   "id": "05de440c-e4fc-49b6-bd33-0c1de8d57789",
   "metadata": {},
   "outputs": [],
   "source": [
    "enumerate()\n",
    "Return an enumerate object."
   ]
  },
  {
   "cell_type": "code",
   "execution_count": null,
   "id": "67dd48a1-e0a4-4834-a7f0-e0bf83eea4ba",
   "metadata": {},
   "outputs": [],
   "source": [
    "eval()\t\n",
    "Evaluates and executes an expression."
   ]
  },
  {
   "cell_type": "code",
   "execution_count": null,
   "id": "e94d6d0d-f4bb-4aa8-87cb-586435b77f44",
   "metadata": {},
   "outputs": [],
   "source": [
    "exec()\t\n",
    "This function supports dynamic execution of Python code."
   ]
  },
  {
   "cell_type": "code",
   "execution_count": null,
   "id": "ed9c7667-6efe-460a-b73d-437f462a6a7c",
   "metadata": {},
   "outputs": [],
   "source": [
    "filter()\t\n",
    "Construct an iterator from an iterable and returns true."
   ]
  },
  {
   "cell_type": "code",
   "execution_count": null,
   "id": "59475b90-5eb4-48d8-9ff3-7d1d19e1f899",
   "metadata": {},
   "outputs": [],
   "source": [
    "float()\t\n",
    "Return a floating point number from a number or string."
   ]
  },
  {
   "cell_type": "code",
   "execution_count": null,
   "id": "8ba5e621-2ef0-4414-9d09-e61ed1fc664a",
   "metadata": {},
   "outputs": [],
   "source": [
    "format()\t\n",
    "Convert a value to a “formatted” representation."
   ]
  },
  {
   "cell_type": "code",
   "execution_count": null,
   "id": "80908e4d-a841-4ae7-960e-d9f9944c8da3",
   "metadata": {},
   "outputs": [],
   "source": [
    "frozenset()\t\n",
    "Return a new frozenset object."
   ]
  },
  {
   "cell_type": "code",
   "execution_count": null,
   "id": "30afc61e-1043-4a53-9480-d30a7510d920",
   "metadata": {},
   "outputs": [],
   "source": [
    "getattr()\t\n",
    "Return the value of the named attribute of object."
   ]
  },
  {
   "cell_type": "code",
   "execution_count": null,
   "id": "25205f8e-8c62-4a79-a945-b081c52e012a",
   "metadata": {},
   "outputs": [],
   "source": [
    "globals()\t\n",
    "Return the dictionary implementing the current module namespace."
   ]
  },
  {
   "cell_type": "code",
   "execution_count": null,
   "id": "92560575-8886-4399-a8d8-98fa847a19f3",
   "metadata": {},
   "outputs": [],
   "source": [
    "hasattr()\t\n",
    "True if the string is the name of one of the object’s attributes."
   ]
  },
  {
   "cell_type": "code",
   "execution_count": null,
   "id": "46aa6a88-503f-4b89-9179-07c9b4d90fe5",
   "metadata": {},
   "outputs": [],
   "source": [
    "hash()\t\n",
    "Return the hash value of the object."
   ]
  },
  {
   "cell_type": "code",
   "execution_count": null,
   "id": "c272a177-2c89-494c-a441-ee23d66b36d6",
   "metadata": {},
   "outputs": [],
   "source": [
    "help()\t\n",
    "Invoke the built-in help system."
   ]
  },
  {
   "cell_type": "code",
   "execution_count": null,
   "id": "e9c13258-1c37-4d7f-a4df-64f910433682",
   "metadata": {},
   "outputs": [],
   "source": [
    "hex()\t\n",
    "Convert an integer number to a lowercase hexadecimal string."
   ]
  },
  {
   "cell_type": "code",
   "execution_count": null,
   "id": "35e16d74-078c-4518-9ff9-426472e598dc",
   "metadata": {},
   "outputs": [],
   "source": [
    "id()\t\n",
    "Return the “identity” of an object."
   ]
  },
  {
   "cell_type": "code",
   "execution_count": null,
   "id": "183894d2-dfee-490e-ba16-b6c57f15b050",
   "metadata": {},
   "outputs": [],
   "source": [
    "input()\t\n",
    "This function takes an input and converts it into a string."
   ]
  },
  {
   "cell_type": "code",
   "execution_count": null,
   "id": "6da0d185-bafb-417a-8650-ce6abffa3d3d",
   "metadata": {},
   "outputs": [],
   "source": [
    "int()\t\n",
    "Return an integer object constructed from a number or string."
   ]
  },
  {
   "cell_type": "code",
   "execution_count": null,
   "id": "2544894a-9fe5-42a3-8cca-4072b42ad9b0",
   "metadata": {},
   "outputs": [],
   "source": [
    "isinstance()\t\n",
    "Return True if the object argument is an instance of an object."
   ]
  },
  {
   "cell_type": "code",
   "execution_count": null,
   "id": "87f6dbb2-107d-41c4-b7b2-3de972fe343e",
   "metadata": {},
   "outputs": [],
   "source": [
    "issubclass()\t\n",
    "Return True if class is a subclass of classinfo."
   ]
  },
  {
   "cell_type": "code",
   "execution_count": null,
   "id": "b1e577ff-99e9-4dd3-bcf1-08780bf31ed4",
   "metadata": {},
   "outputs": [],
   "source": [
    "iter()\t\n",
    "Return an iterator object."
   ]
  },
  {
   "cell_type": "code",
   "execution_count": null,
   "id": "71db2fa1-08e8-4945-954f-b73a545430a7",
   "metadata": {},
   "outputs": [],
   "source": [
    "len()\t\n",
    "Return the length (the number of items) of an object."
   ]
  },
  {
   "cell_type": "code",
   "execution_count": null,
   "id": "52a74d3f-5c84-4849-a7f0-27b2d8efa910",
   "metadata": {},
   "outputs": [],
   "source": [
    "list()\t\n",
    "Rather than being a function, list is a mutable sequence type."
   ]
  },
  {
   "cell_type": "code",
   "execution_count": null,
   "id": "3e40257e-d305-4632-be68-c77b29feedf4",
   "metadata": {},
   "outputs": [],
   "source": [
    "locals()\t\n",
    "Update and return a dictionary with the current local symbol table."
   ]
  },
  {
   "cell_type": "code",
   "execution_count": null,
   "id": "a1bbeab7-d119-48c7-b3af-57343b486f2d",
   "metadata": {},
   "outputs": [],
   "source": [
    "map()\t\n",
    "Return an iterator that applies function to every item of iterable."
   ]
  },
  {
   "cell_type": "code",
   "execution_count": null,
   "id": "4c7af995-00ff-4666-ac8e-61af53aa8dc8",
   "metadata": {},
   "outputs": [],
   "source": [
    "max()\t\n",
    "Return the largest item in an iterable."
   ]
  },
  {
   "cell_type": "code",
   "execution_count": null,
   "id": "1ff9a983-463a-4140-bf57-abd950813a67",
   "metadata": {},
   "outputs": [],
   "source": [
    "min()\t\n",
    "Return the smallest item in an iterable."
   ]
  },
  {
   "cell_type": "code",
   "execution_count": null,
   "id": "d27dcb11-1e74-497f-b9de-f76e3eeb8b25",
   "metadata": {},
   "outputs": [],
   "source": [
    "next()\t\n",
    "Retrieve the next item from the iterator."
   ]
  },
  {
   "cell_type": "code",
   "execution_count": null,
   "id": "4a544d8c-9094-4dfb-afc1-ab265943db38",
   "metadata": {},
   "outputs": [],
   "source": [
    "object()\t\n",
    "Return a new featureless object."
   ]
  },
  {
   "cell_type": "code",
   "execution_count": null,
   "id": "312cb048-8de0-4307-b31a-9c995d8dc716",
   "metadata": {},
   "outputs": [],
   "source": [
    "oct()\t\n",
    "Convert an integer number to an octal string."
   ]
  },
  {
   "cell_type": "code",
   "execution_count": null,
   "id": "511b0f30-9e57-4f40-ba82-386afbfd3401",
   "metadata": {},
   "outputs": [],
   "source": [
    "open()\t\n",
    "Open file and return a corresponding file object."
   ]
  },
  {
   "cell_type": "code",
   "execution_count": null,
   "id": "a75dd2bb-fe9c-47f4-aba7-c9c684ca1e56",
   "metadata": {},
   "outputs": [],
   "source": [
    "ord()\t\n",
    "Return an integer representing the Unicode code point of a character."
   ]
  },
  {
   "cell_type": "code",
   "execution_count": null,
   "id": "fcabee72-94bc-4b58-bb80-255448757bf2",
   "metadata": {},
   "outputs": [],
   "source": [
    "pow()\t\n",
    "Return base to the power exp."
   ]
  },
  {
   "cell_type": "code",
   "execution_count": null,
   "id": "b20e580e-5d73-4fd0-b7cb-9350af377c22",
   "metadata": {},
   "outputs": [],
   "source": [
    "print()\t\n",
    "Print objects to the text stream file."
   ]
  },
  {
   "cell_type": "code",
   "execution_count": null,
   "id": "fb936050-c571-4d77-8221-626c86af29de",
   "metadata": {},
   "outputs": [],
   "source": [
    "property()\t\n",
    "Return a property attribute."
   ]
  },
  {
   "cell_type": "code",
   "execution_count": null,
   "id": "e8877990-0bc3-4e28-9930-734ec1efab3d",
   "metadata": {},
   "outputs": [],
   "source": [
    "repr()\t\n",
    "Return a string containing a printable representation of an object."
   ]
  },
  {
   "cell_type": "code",
   "execution_count": null,
   "id": "7eca3563-9678-4084-9de9-f8cd3979ca75",
   "metadata": {},
   "outputs": [],
   "source": [
    "reversed()\t\n",
    "Return a reverse iterator."
   ]
  },
  {
   "cell_type": "code",
   "execution_count": null,
   "id": "88fb2035-d4b3-47a7-a0e7-01b721ef1f00",
   "metadata": {},
   "outputs": [],
   "source": [
    "round()\t\n",
    "Return number rounded to ndigits precision after the decimal point."
   ]
  },
  {
   "cell_type": "code",
   "execution_count": null,
   "id": "0745b96d-2592-4730-88ae-baf3abbf4b83",
   "metadata": {},
   "outputs": [],
   "source": [
    "set()\t\n",
    "Return a new set object."
   ]
  },
  {
   "cell_type": "code",
   "execution_count": null,
   "id": "bfcd7265-d41f-49da-a204-8fce0b3eccc7",
   "metadata": {},
   "outputs": [],
   "source": [
    "setattr()\t\n",
    "This is the counterpart of getattr()."
   ]
  },
  {
   "cell_type": "code",
   "execution_count": null,
   "id": "f63cb3d1-7ee4-46f6-b3b3-da5de815023e",
   "metadata": {},
   "outputs": [],
   "source": [
    "slice()\t\n",
    "Return a sliced object representing a set of indices."
   ]
  },
  {
   "cell_type": "code",
   "execution_count": null,
   "id": "23967dbb-0086-402f-92bf-d033ca1712e4",
   "metadata": {},
   "outputs": [],
   "source": [
    "sorted()\t\n",
    "Return a new sorted list from the items in iterable."
   ]
  },
  {
   "cell_type": "code",
   "execution_count": null,
   "id": "2db25d48-899a-4211-bcde-0897166791e7",
   "metadata": {},
   "outputs": [],
   "source": [
    "staticmethod()\t\n",
    "Transform a method into a static method."
   ]
  },
  {
   "cell_type": "code",
   "execution_count": null,
   "id": "ecbbf193-a30d-4a5e-a9df-857f053d4f75",
   "metadata": {},
   "outputs": [],
   "source": [
    "str()\t\n",
    "Return a str version of object."
   ]
  },
  {
   "cell_type": "code",
   "execution_count": null,
   "id": "8394a7c8-98a3-4a14-8ec4-6d89b97d0c22",
   "metadata": {},
   "outputs": [],
   "source": [
    "sum()\t\n",
    "Sums start and the items of an iterable."
   ]
  },
  {
   "cell_type": "code",
   "execution_count": null,
   "id": "c5399d5d-ef93-47b8-8b65-bc7d5720c417",
   "metadata": {},
   "outputs": [],
   "source": [
    "super()\t\n",
    "Return a proxy object that delegates method calls to a parent or sibling."
   ]
  },
  {
   "cell_type": "code",
   "execution_count": null,
   "id": "0d0e38d7-648f-4e0c-92fe-e3c2b36c7faa",
   "metadata": {},
   "outputs": [],
   "source": [
    "tuple()\t\n",
    "Rather than being a function, is actually an immutable sequence type."
   ]
  },
  {
   "cell_type": "code",
   "execution_count": null,
   "id": "f4c70890-f575-40cb-a724-2d6df3dbb319",
   "metadata": {},
   "outputs": [],
   "source": [
    "type()\t\n",
    "Return the type of an object."
   ]
  },
  {
   "cell_type": "code",
   "execution_count": null,
   "id": "00be2313-2de7-41c0-92a7-902e0549dac7",
   "metadata": {},
   "outputs": [],
   "source": [
    "vars()\t\n",
    "Return the dict attribute for any other object with a dict attribute."
   ]
  },
  {
   "cell_type": "code",
   "execution_count": null,
   "id": "5f560b15-8969-4cd7-aec1-d194984395cf",
   "metadata": {},
   "outputs": [],
   "source": [
    "zip()\t\n",
    "Iterate over several iterables in parallel."
   ]
  }
 ],
 "metadata": {
  "kernelspec": {
   "display_name": "Python 3 (ipykernel)",
   "language": "python",
   "name": "python3"
  },
  "language_info": {
   "codemirror_mode": {
    "name": "ipython",
    "version": 3
   },
   "file_extension": ".py",
   "mimetype": "text/x-python",
   "name": "python",
   "nbconvert_exporter": "python",
   "pygments_lexer": "ipython3",
   "version": "3.11.5"
  }
 },
 "nbformat": 4,
 "nbformat_minor": 5
}
