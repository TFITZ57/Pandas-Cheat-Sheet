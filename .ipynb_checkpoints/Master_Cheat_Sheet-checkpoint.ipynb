{
 "cells": [
  {
   "cell_type": "markdown",
   "id": "4a589b76",
   "metadata": {},
   "source": [
    "# Pandas Cheat Sheet"
   ]
  },
  {
   "cell_type": "markdown",
   "id": "0e9402ec",
   "metadata": {},
   "source": [
    "This notebook lists unique Pandas methods extracted from various sources."
   ]
  },
  {
   "cell_type": "code",
   "execution_count": null,
   "id": "046c0c49",
   "metadata": {},
   "outputs": [],
   "source": [
    "df.corr()"
   ]
  },
  {
   "cell_type": "code",
   "execution_count": null,
   "id": "ddecd6ae",
   "metadata": {},
   "outputs": [],
   "source": [
    "df.head()"
   ]
  },
  {
   "cell_type": "code",
   "execution_count": null,
   "id": "4b571312",
   "metadata": {},
   "outputs": [],
   "source": [
    "df.pct_change()"
   ]
  },
  {
   "cell_type": "code",
   "execution_count": null,
   "id": "159c4b59",
   "metadata": {},
   "outputs": [],
   "source": [
    "df.plot()"
   ]
  },
  {
   "cell_type": "code",
   "execution_count": null,
   "id": "2e535a6a",
   "metadata": {},
   "outputs": [],
   "source": [
    "df.plot(figsize=(25,10)"
   ]
  },
  {
   "cell_type": "code",
   "execution_count": null,
   "id": "a359d313",
   "metadata": {},
   "outputs": [],
   "source": [
    "df.plot(kind='scatter', x='Ice Cream Sales', y='Drowning Incidents')"
   ]
  },
  {
   "cell_type": "code",
   "execution_count": null,
   "id": "892f181d",
   "metadata": {},
   "outputs": [],
   "source": [
    "df.rolling(window=100)"
   ]
  },
  {
   "cell_type": "code",
   "execution_count": null,
   "id": "0a5d4710",
   "metadata": {},
   "outputs": [],
   "source": [
    "df.rolling(window=180)"
   ]
  },
  {
   "cell_type": "code",
   "execution_count": null,
   "id": "b3293cf2",
   "metadata": {},
   "outputs": [],
   "source": [
    "df.rolling(window=20)"
   ]
  },
  {
   "cell_type": "code",
   "execution_count": null,
   "id": "366cbf41",
   "metadata": {},
   "outputs": [],
   "source": [
    "df.rolling(window=30)"
   ]
  },
  {
   "cell_type": "code",
   "execution_count": null,
   "id": "1c9b0878",
   "metadata": {},
   "outputs": [],
   "source": [
    "df.rolling(window=50)"
   ]
  },
  {
   "cell_type": "code",
   "execution_count": null,
   "id": "d35fddd2",
   "metadata": {},
   "outputs": [],
   "source": [
    "df.rolling(window=7)"
   ]
  },
  {
   "cell_type": "code",
   "execution_count": null,
   "id": "c82b0307",
   "metadata": {},
   "outputs": [],
   "source": [
    "df.sort_index(ascending=True, inplace=True)"
   ]
  },
  {
   "cell_type": "code",
   "execution_count": null,
   "id": "98617723",
   "metadata": {},
   "outputs": [],
   "source": [
    "df.sort_index(inplace=True)"
   ]
  },
  {
   "cell_type": "code",
   "execution_count": null,
   "id": "242a7aa0",
   "metadata": {},
   "outputs": [],
   "source": [
    "combined_df.corr()"
   ]
  },
  {
   "cell_type": "code",
   "execution_count": null,
   "id": "2c3aa4eb",
   "metadata": {},
   "outputs": [],
   "source": [
    "combined_df.plot()"
   ]
  },
  {
   "cell_type": "code",
   "execution_count": null,
   "id": "656bcba4",
   "metadata": {},
   "outputs": [],
   "source": [
    "combined_df.plot(kind='scatter', x='Ice Cream Sales', y='Drowning Incidents')"
   ]
  },
  {
   "cell_type": "code",
   "execution_count": null,
   "id": "d7929ff5",
   "metadata": {},
   "outputs": [],
   "source": [
    "pd.concat([ice_cream, drowning], axis=\"columns\", join=\"inner\")"
   ]
  },
  {
   "cell_type": "code",
   "execution_count": null,
   "id": "1b9c7101",
   "metadata": {},
   "outputs": [],
   "source": [
    "pd.read_csv(drowning_data, index_col=\"Month\")"
   ]
  },
  {
   "cell_type": "code",
   "execution_count": null,
   "id": "211529db",
   "metadata": {},
   "outputs": [],
   "source": [
    "pd.read_csv(ice_cream_data, index_col=\"Month\")"
   ]
  },
  {
   "cell_type": "code",
   "execution_count": null,
   "id": "6869de7b",
   "metadata": {},
   "outputs": [],
   "source": [
    "concat()"
   ]
  },
  {
   "cell_type": "code",
   "execution_count": null,
   "id": "f03281f9",
   "metadata": {},
   "outputs": [],
   "source": [
    "corr()"
   ]
  },
  {
   "cell_type": "code",
   "execution_count": null,
   "id": "cb655790",
   "metadata": {},
   "outputs": [],
   "source": [
    "csv()"
   ]
  },
  {
   "cell_type": "code",
   "execution_count": null,
   "id": "3cffaf33",
   "metadata": {},
   "outputs": [],
   "source": [
    "head()"
   ]
  },
  {
   "cell_type": "code",
   "execution_count": null,
   "id": "3868e0f4",
   "metadata": {},
   "outputs": [],
   "source": [
    "heatmap()"
   ]
  },
  {
   "cell_type": "code",
   "execution_count": null,
   "id": "a3846934",
   "metadata": {},
   "outputs": [],
   "source": [
    "plot()"
   ]
  },
  {
   "cell_type": "code",
   "execution_count": null,
   "id": "6222195f",
   "metadata": {},
   "outputs": [],
   "source": [
    "read_csv()"
   ]
  },
  {
   "cell_type": "code",
   "execution_count": null,
   "id": "0fc8e9d9",
   "metadata": {},
   "outputs": [],
   "source": [
    "pct_change()"
   ]
  },
  {
   "cell_type": "code",
   "execution_count": null,
   "id": "b40eeff6",
   "metadata": {},
   "outputs": [],
   "source": [
    "sort_index()"
   ]
  },
  {
   "cell_type": "code",
   "execution_count": null,
   "id": "f40ca314",
   "metadata": {},
   "outputs": [],
   "source": [
    "legend()"
   ]
  },
  {
   "cell_type": "code",
   "execution_count": null,
   "id": "d7328cdf",
   "metadata": {},
   "outputs": [],
   "source": [
    "rolling()"
   ]
  },
  {
   "cell_type": "code",
   "execution_count": null,
   "id": "7f42e998",
   "metadata": {},
   "outputs": [],
   "source": [
    "5()"
   ]
  },
  {
   "cell_type": "code",
   "execution_count": null,
   "id": "3db3bd6a",
   "metadata": {},
   "outputs": [],
   "source": [
    "columns()"
   ]
  },
  {
   "cell_type": "code",
   "execution_count": null,
   "id": "7752566c",
   "metadata": {},
   "outputs": [],
   "source": [
    "lmplot()"
   ]
  },
  {
   "cell_type": "code",
   "execution_count": null,
   "id": "f442d807",
   "metadata": {},
   "outputs": [],
   "source": [
    "2()"
   ]
  },
  {
   "cell_type": "code",
   "execution_count": null,
   "id": "24d4e7df",
   "metadata": {},
   "outputs": [],
   "source": [
    "8()"
   ]
  },
  {
   "cell_type": "code",
   "execution_count": null,
   "id": "fa62120e",
   "metadata": {},
   "outputs": [],
   "source": [
    "dot()"
   ]
  },
  {
   "cell_type": "code",
   "execution_count": null,
   "id": "237ab5fd",
   "metadata": {},
   "outputs": [],
   "source": [
    "pivot_table()"
   ]
  },
  {
   "cell_type": "code",
   "execution_count": null,
   "id": "1b8d01a6",
   "metadata": {},
   "outputs": [],
   "source": [
    "reset_index()"
   ]
  },
  {
   "cell_type": "code",
   "execution_count": null,
   "id": "76086561",
   "metadata": {},
   "outputs": [],
   "source": [
    "sqrt()"
   ]
  },
  {
   "cell_type": "code",
   "execution_count": null,
   "id": "3c6c5e5f",
   "metadata": {},
   "outputs": [],
   "source": [
    "std()"
   ]
  },
  {
   "cell_type": "code",
   "execution_count": null,
   "id": "20431cd7",
   "metadata": {},
   "outputs": [],
   "source": [
    "05()"
   ]
  },
  {
   "cell_type": "code",
   "execution_count": null,
   "id": "6a0a9f0b",
   "metadata": {},
   "outputs": [],
   "source": [
    "10()"
   ]
  },
  {
   "cell_type": "code",
   "execution_count": null,
   "id": "89b79e37",
   "metadata": {},
   "outputs": [],
   "source": [
    "15()"
   ]
  },
  {
   "cell_type": "code",
   "execution_count": null,
   "id": "35493386",
   "metadata": {},
   "outputs": [],
   "source": [
    "50()"
   ]
  },
  {
   "cell_type": "code",
   "execution_count": null,
   "id": "c0c05c42",
   "metadata": {},
   "outputs": [],
   "source": [
    "drop()"
   ]
  },
  {
   "cell_type": "code",
   "execution_count": null,
   "id": "cad9fcfb",
   "metadata": {},
   "outputs": [],
   "source": [
    "sort_values()"
   ]
  },
  {
   "cell_type": "code",
   "execution_count": null,
   "id": "daa55879",
   "metadata": {},
   "outputs": [],
   "source": [
    "1()"
   ]
  },
  {
   "cell_type": "code",
   "execution_count": null,
   "id": "05c33b42",
   "metadata": {},
   "outputs": [],
   "source": [
    "125()"
   ]
  },
  {
   "cell_type": "code",
   "execution_count": null,
   "id": "791b043d",
   "metadata": {},
   "outputs": [],
   "source": [
    "mean()"
   ]
  },
  {
   "cell_type": "code",
   "execution_count": null,
   "id": "40c196ea",
   "metadata": {},
   "outputs": [],
   "source": [
    "sum()"
   ]
  }
 ],
 "metadata": {},
 "nbformat": 4,
 "nbformat_minor": 5
}
