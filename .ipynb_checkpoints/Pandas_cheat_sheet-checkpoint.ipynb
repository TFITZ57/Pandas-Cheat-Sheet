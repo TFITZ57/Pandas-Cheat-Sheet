{
 "cells": [
  {
   "cell_type": "markdown",
   "id": "03920922-3b79-4c0e-bece-e86e8192956c",
   "metadata": {},
   "source": [
    "Pandas Cheat Sheet \n",
    "    [reading csv, cleaning data, indexing, calculations, visualizations]"
   ]
  },
  {
   "cell_type": "code",
   "execution_count": null,
   "id": "169349f4-293e-433f-8cae-37e809c2a95a",
   "metadata": {},
   "outputs": [],
   "source": [
    "Reading CSV"
   ]
  },
  {
   "cell_type": "code",
   "execution_count": null,
   "id": "2846bb69-5b9f-459e-aec1-cb03c841f959",
   "metadata": {},
   "outputs": [],
   "source": [
    "pd.read_csv\n",
    "pd.read_csv(csvpath, header=none)"
   ]
  },
  {
   "cell_type": "code",
   "execution_count": null,
   "id": "2329aa48-9b39-42b4-ac99-ebef1ea3dfc1",
   "metadata": {},
   "outputs": [],
   "source": [
    "df.head()"
   ]
  },
  {
   "cell_type": "code",
   "execution_count": null,
   "id": "f75e48da-8612-4eae-8bac-3bc1c5f15160",
   "metadata": {},
   "outputs": [],
   "source": [
    "df.tails()"
   ]
  },
  {
   "cell_type": "code",
   "execution_count": null,
   "id": "1fa66125-7603-44f4-a72c-daa1559a1ce9",
   "metadata": {},
   "outputs": [],
   "source": [
    "col_names = [[]]\n",
    "df.columns = col_names"
   ]
  },
  {
   "cell_type": "code",
   "execution_count": null,
   "id": "00836dec-a28f-4866-924e-08bae34cd5e5",
   "metadata": {},
   "outputs": [],
   "source": [
    "df.describe(include='all') - descride summary statistics for csv data"
   ]
  },
  {
   "cell_type": "code",
   "execution_count": null,
   "id": "781c74a6-42d1-4325-bb44-c072e9d5f60f",
   "metadata": {},
   "outputs": [],
   "source": [
    "df.rename()"
   ]
  },
  {
   "cell_type": "code",
   "execution_count": null,
   "id": "1b7940c0-f75f-4f5e-bbd2-8dfde56717a5",
   "metadata": {},
   "outputs": [],
   "source": [
    "dataframe[\"string_Split\"].str.spit(\" \", expand=True) - strings into their separate columns"
   ]
  },
  {
   "cell_type": "code",
   "execution_count": null,
   "id": "99215d4d-4bdb-4cb7-89cb-63b34a14f03f",
   "metadata": {},
   "outputs": [],
   "source": [
    "dataframe = dataframe.drop(colums=[\"name\"])"
   ]
  },
  {
   "cell_type": "markdown",
   "id": "18429dd7-27bb-497e-8b31-a54644f8f4de",
   "metadata": {},
   "source": [
    "Data Cleaning "
   ]
  },
  {
   "cell_type": "code",
   "execution_count": null,
   "id": "21fcb712-b3c3-49b9-97e7-e1b05afb3eeb",
   "metadata": {},
   "outputs": [],
   "source": [
    "(csv_path, index_col=\"order_no\") - index by\" \""
   ]
  },
  {
   "cell_type": "code",
   "execution_count": null,
   "id": "b2b5a0e8-5490-4e08-8d80-f3d6fc355970",
   "metadata": {},
   "outputs": [],
   "source": [
    "csv_data.sample() - take a sample"
   ]
  },
  {
   "cell_type": "code",
   "execution_count": null,
   "id": "3293cc38-c195-4c17-906f-feaaa86d6aae",
   "metadata": {},
   "outputs": [],
   "source": [
    "csv_data.dtypes - identify datatypes"
   ]
  },
  {
   "cell_type": "code",
   "execution_count": null,
   "id": "1340630d-a114-4305-a560-badfe02c7ff2",
   "metadata": {},
   "outputs": [],
   "source": [
    "csv_data.count() - identify number of rows"
   ]
  },
  {
   "cell_type": "code",
   "execution_count": null,
   "id": "3ef2c689-bf2c-433f-bc93-414c9dccaebc",
   "metadata": {},
   "outputs": [],
   "source": [
    "csv_data[\"data_value\"].value_counts() - Identify frequency"
   ]
  },
  {
   "cell_type": "code",
   "execution_count": null,
   "id": "54e44489-a54b-411f-86a9-05537cccaecd",
   "metadata": {},
   "outputs": [],
   "source": [
    "csv_data.isnull() - check for null values "
   ]
  },
  {
   "cell_type": "code",
   "execution_count": null,
   "id": "1192c78b-2f23-45ce-9d79-5d4e03300de1",
   "metadata": {},
   "outputs": [],
   "source": [
    "csv_data.isnull().mean() * 100 - percentage of nulls"
   ]
  },
  {
   "cell_type": "code",
   "execution_count": null,
   "id": "884267b7-5725-4460-9052-933c06e06923",
   "metadata": {},
   "outputs": [],
   "source": [
    "csv_data.isnull().sum() - number of nulls"
   ]
  },
  {
   "cell_type": "code",
   "execution_count": null,
   "id": "3b94b7dd-73a6-4f9c-9fc9-93bdbf97c155",
   "metadata": {},
   "outputs": [],
   "source": [
    "csv_data[\"data value\"].fillna[\"csv_data\"] - filling nan "
   ]
  },
  {
   "cell_type": "code",
   "execution_count": null,
   "id": "619b7942-c310-402c-a1f5-7d4a3966e764",
   "metadata": {},
   "outputs": [],
   "source": [
    "csv_data.dropna().copy() - dropping nan from dataframe "
   ]
  },
  {
   "cell_type": "code",
   "execution_count": null,
   "id": "2a451fbf-b41b-4785-beb0-bd78e294bb0a",
   "metadata": {},
   "outputs": [],
   "source": [
    "csv_data.duplicate() - check for duplicates "
   ]
  },
  {
   "cell_type": "code",
   "execution_count": null,
   "id": "6d14b54c-8e99-40ba-90bb-eb890048c7ff",
   "metadata": {},
   "outputs": [],
   "source": [
    "csv_data[\"data value\"].duplicate() - check duplicates for specific field"
   ]
  },
  {
   "cell_type": "code",
   "execution_count": null,
   "id": "1ba335e9-a5ab-4dca-8d0d-01d98c7da756",
   "metadata": {},
   "outputs": [],
   "source": [
    "csv_data[\"data value\"].str.replace(\"$\", \"\") - replaceing currency symbols"
   ]
  },
  {
   "cell_type": "code",
   "execution_count": null,
   "id": "e1b3c2cb-e828-47e3-87c1-f8aa0e0d8da3",
   "metadata": {},
   "outputs": [],
   "source": [
    "csv_data.drop_duplicates().copy() - drop duplicates "
   ]
  },
  {
   "cell_type": "code",
   "execution_count": null,
   "id": "7c096786-6bfd-4175-a5b4-8ce878bf798e",
   "metadata": {},
   "outputs": [],
   "source": [
    "csv_data[\"data value\"].astype(\"float\") - covert data value from object to float "
   ]
  },
  {
   "cell_type": "code",
   "execution_count": null,
   "id": "ea278e61-b84c-41bc-9085-0866439f364a",
   "metadata": {},
   "outputs": [],
   "source": [
    "filter rows\n",
    "term_df = filtered_df.loc[filtered_df['term'] == '36 months'].copy()\n",
    "- In summary, this line creates a new DataFrame term_df containing only the rows from filtered_df where the value in the term column is '36 months'."
   ]
  },
  {
   "cell_type": "code",
   "execution_count": null,
   "id": "3abe34f9-7ffb-4a5e-8330-5545b0e7dfe0",
   "metadata": {},
   "outputs": [],
   "source": [
    "modify row values \n",
    "term_df.loc[term_df['term'] == '36 months', 'term'] = '3 Years'\n",
    "- Change row values within the 'term' column from '36 months' to '3 Years'"
   ]
  },
  {
   "cell_type": "code",
   "execution_count": null,
   "id": "5a90015d-5be7-4abb-a067-49c89e0c291b",
   "metadata": {},
   "outputs": [],
   "source": [
    "term_df.loc[term_df['emp_title'].isnull(), 'emp_title'] = 'Unknown'\n",
    "- Change row values within the 'emp_title' column from NaN to 'Unknown'"
   ]
  },
  {
   "cell_type": "markdown",
   "id": "9e9168ae-8c88-4e5f-8421-80fe0cd40673",
   "metadata": {},
   "source": [
    "Indexing Data "
   ]
  },
  {
   "cell_type": "code",
   "execution_count": null,
   "id": "f2d4a7b6-f014-4f19-94f5-a3efde2f8a0e",
   "metadata": {},
   "outputs": [],
   "source": [
    ".iloc(0) - select the first rows of dataframe"
   ]
  },
  {
   "cell_type": "code",
   "execution_count": null,
   "id": "59e39a11-d52c-4261-a534-087b8b89a9bf",
   "metadata": {},
   "outputs": [],
   "source": [
    ".iloc(1) - slelct the seconf row of dataframe "
   ]
  },
  {
   "cell_type": "code",
   "execution_count": null,
   "id": "757e3801-d7b4-47dc-a4c5-cc82af4e8548",
   "metadata": {},
   "outputs": [],
   "source": [
    ".iloc(0:10) - select first ten rows of dataframe"
   ]
  },
  {
   "cell_type": "code",
   "execution_count": null,
   "id": "f5076ca1-df40-4062-b83e-629e15daad80",
   "metadata": {},
   "outputs": [],
   "source": [
    ".iloc(-1) - select last from of dataframe "
   ]
  },
  {
   "cell_type": "code",
   "execution_count": null,
   "id": "6c53ff64-ccee-4518-a318-757cfd689844",
   "metadata": {},
   "outputs": [],
   "source": [
    ".iloc[:,0].head() - select first collum of dataframe"
   ]
  },
  {
   "cell_type": "code",
   "execution_count": null,
   "id": "52dfcb3e-063a-487f-ad8c-1f43ca705516",
   "metadata": {},
   "outputs": [],
   "source": [
    ".iloc[:1].head() - select second colimn of dataframe with all rows"
   ]
  },
  {
   "cell_type": "code",
   "execution_count": null,
   "id": "810418f5-c973-4219-a870-8f0ddd40bfcc",
   "metadata": {},
   "outputs": [],
   "source": [
    ".iloc[:,-1].head() - last column of dataframe with all rows"
   ]
  },
  {
   "cell_type": "code",
   "execution_count": null,
   "id": "d0b2851d-5dc2-468d-a10b-a1b4c8ba4e34",
   "metadata": {},
   "outputs": [],
   "source": [
    ".iloc[:, 0:2].head() - select first two colums with all rows "
   ]
  },
  {
   "cell_type": "code",
   "execution_count": null,
   "id": "36051355-ae8b-458a-8b92-223bc4cf84f4",
   "metadata": {},
   "outputs": [],
   "source": [
    ".iloc[0,4,7,21], [0,3,5] - select 1st, 5th, 8th, 22nd row of the 1st, 4th, and 6th columns"
   ]
  },
  {
   "cell_type": "code",
   "execution_count": null,
   "id": "8b322168-a3cb-4cd5-b687-e256d4eae4a7",
   "metadata": {},
   "outputs": [],
   "source": [
    ".iloc[0:5, 2:5] - select first 5 rows of 3rd,4th,5th column"
   ]
  },
  {
   "cell_type": "code",
   "execution_count": null,
   "id": "7ddff737-bf97-4a31-8507-841500440376",
   "metadata": {},
   "outputs": [],
   "source": [
    ".iloc[0, csv_data.columns.get_loc('first_name'] = 'Arya'\n",
    "- Modify the 'first_name' column value of the first row "
   ]
  },
  {
   "cell_type": "code",
   "execution_count": null,
   "id": "57bd5a35-e106-4235-bf69-de75b88d1554",
   "metadata": {},
   "outputs": [],
   "source": [
    ".set_index(csv_data[\"first name\"], inplace=True"
   ]
  },
  {
   "cell_type": "code",
   "execution_count": null,
   "id": "a1b92c07-4174-46e8-89ad-b630c52c10ac",
   "metadata": {},
   "outputs": [],
   "source": [
    ".sort_index() - sort the index"
   ]
  },
  {
   "cell_type": "code",
   "execution_count": null,
   "id": "e401a11b-33c5-42f1-837d-478a24fcc5c6",
   "metadata": {},
   "outputs": [],
   "source": [
    ".loc[\"name\"] - select row with index \"name\""
   ]
  },
  {
   "cell_type": "code",
   "execution_count": null,
   "id": "e412d33e-9091-4045-a9ae-d44f58f67fc5",
   "metadata": {},
   "outputs": [],
   "source": [
    ".loc[\"name1\":\"name\"].head() - slice the data to ouput range of rows"
   ]
  },
  {
   "cell_type": "code",
   "execution_count": null,
   "id": "111c3a25-65a0-487d-aeec-acc4726c2c49",
   "metadata": {},
   "outputs": [],
   "source": [
    ".loc[csv_data[\"column\"] == 'M'].head() - filter rows based on a column value conditional"
   ]
  },
  {
   "cell_type": "code",
   "execution_count": null,
   "id": "bd934726-8abc-439b-8e51-5f5b1dce63b7",
   "metadata": {},
   "outputs": [],
   "source": [
    ".loc['Yun', 'first_name'] = 'Yuna' - Modify \"column\" value of the row with index"
   ]
  },
  {
   "cell_type": "markdown",
   "id": "f8055fd8-4877-4c2c-a571-5a26f4f2f795",
   "metadata": {},
   "source": [
    "Data Visualization "
   ]
  },
  {
   "cell_type": "code",
   "execution_count": null,
   "id": "ca793c27-994e-406e-8c24-71686d438f7d",
   "metadata": {},
   "outputs": [],
   "source": [
    ".set_index(pd.to_datetime(csv_data[\"Date\"], infer_datetime_format=True) inplace=True\n",
    "-convert date strings into objects and set the datetime as the index          "
   ]
  },
  {
   "cell_type": "code",
   "execution_count": null,
   "id": "e2bd976e-fb8f-4d25-a46d-2541c047e73e",
   "metadata": {},
   "outputs": [],
   "source": [
    ".drop(columns=['Date'], inplace=True - drop extra date column"
   ]
  },
  {
   "cell_type": "code",
   "execution_count": null,
   "id": "5b3945bd-435c-488a-8436-bfee2c47f6dd",
   "metadata": {},
   "outputs": [],
   "source": [
    "csv_data.plot()"
   ]
  },
  {
   "cell_type": "code",
   "execution_count": null,
   "id": "7b325d15-103e-409a-b404-bd124c217344",
   "metadata": {},
   "outputs": [],
   "source": [
    ".plot(kind='bar') - plot bar chart of data"
   ]
  },
  {
   "cell_type": "code",
   "execution_count": null,
   "id": "7903f630-581b-4e91-b280-e34eb1ebf868",
   "metadata": {},
   "outputs": [],
   "source": [
    ".plot(kind='bar', figsize=(20,10)) - bar chart with incresed figure size\n",
    "- plot data with increased figure size to see x-axis labels"
   ]
  },
  {
   "cell_type": "code",
   "execution_count": null,
   "id": "506f7bd6-392f-4c7b-b918-99fee3591331",
   "metadata": {},
   "outputs": [],
   "source": [
    "daily_returns = (csv_data - csv_data.shift(1)) / csv_data.shift(1)\n",
    "-  calculates the daily returns of a financial time series, typically stock prices, in a pandas DataFrame"
   ]
  },
  {
   "cell_type": "code",
   "execution_count": null,
   "id": "cd4eeef0-ec70-4d82-ab71-5f19acb5787f",
   "metadata": {},
   "outputs": [],
   "source": [
    ".shift() -  This method shifts the index of the DataFrame by the specified number of periods (1 in this case)\n",
    "- moves all data down by one row, essentially aligning each row with the previous day's data."
   ]
  },
  {
   "cell_type": "code",
   "execution_count": null,
   "id": "a2be5511-dbd5-4a1f-b10b-f3ab461b5a67",
   "metadata": {},
   "outputs": [],
   "source": [
    ".pct_change() - calculate percent change "
   ]
  },
  {
   "cell_type": "code",
   "execution_count": null,
   "id": "f2d925ac-5189-4ebf-a41a-5ebfe4055204",
   "metadata": {},
   "outputs": [],
   "source": [
    "cumulative_returns = (1 + daily_returns).cumprod()\n",
    "- is used to calculate the cumulative returns of a financial time series using pandas"
   ]
  },
  {
   "cell_type": "code",
   "execution_count": null,
   "id": "3d02e4de-08f6-4ab6-a91f-24b977f51231",
   "metadata": {},
   "outputs": [],
   "source": [
    "cumulative_returns = (1 + daily_returns).cumprod()\n",
    ". cumprod()- method stands for cumulative product. It computes the cumulative product of the elements along a given axis"
   ]
  },
  {
   "cell_type": "code",
   "execution_count": null,
   "id": "17187ac9-ce1b-4d48-b6a3-5cc753dc4f75",
   "metadata": {},
   "outputs": [],
   "source": [
    "- Filter down to 20 companies with the largest market caps\n",
    "top_20_market_cap = market_cap.nlargest(20, 'Market Cap')"
   ]
  },
  {
   "cell_type": "code",
   "execution_count": null,
   "id": "10fb3729-0097-4fd6-a7fe-abdf761dbc74",
   "metadata": {},
   "outputs": [],
   "source": []
  },
  {
   "cell_type": "code",
   "execution_count": null,
   "id": "d4998654-f316-4f64-bb97-793114138db1",
   "metadata": {},
   "outputs": [],
   "source": []
  },
  {
   "cell_type": "code",
   "execution_count": null,
   "id": "5e96654c-a3af-415d-b49a-039179c7f33e",
   "metadata": {},
   "outputs": [],
   "source": []
  }
 ],
 "metadata": {
  "kernelspec": {
   "display_name": "Python 3 (ipykernel)",
   "language": "python",
   "name": "python3"
  },
  "language_info": {
   "codemirror_mode": {
    "name": "ipython",
    "version": 3
   },
   "file_extension": ".py",
   "mimetype": "text/x-python",
   "name": "python",
   "nbconvert_exporter": "python",
   "pygments_lexer": "ipython3",
   "version": "3.11.5"
  }
 },
 "nbformat": 4,
 "nbformat_minor": 5
}
